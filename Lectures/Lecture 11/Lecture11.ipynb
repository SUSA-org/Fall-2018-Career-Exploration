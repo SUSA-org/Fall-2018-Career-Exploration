{
 "cells": [
  {
   "cell_type": "code",
   "execution_count": 1,
   "metadata": {},
   "outputs": [],
   "source": [
    "%matplotlib inline\n",
    "\n",
    "import pandas as pd\n",
    "pd.options.mode.chained_assignment = None\n",
    "import numpy as np\n",
    "import scipy as sp\n",
    "import matplotlib.pyplot as plt\n",
    "from matplotlib import style\n",
    "style.use('ggplot')"
   ]
  },
  {
   "cell_type": "markdown",
   "metadata": {},
   "source": [
    "# Kaggle Recap and Review\n",
    "\n",
    "by Nicholas Lai, Danielle Sugrue, and Nichole Sun\n",
    "\n",
    "Maintained by the Statistics Undergraduate Student Association at UC Berkeley\n",
    "\n",
    "# INSERT KAGGLE 1 RECAP HERE\n",
    "\n",
    "## Topics in Regression\n",
    "\n",
    "### Ridge Regression\n",
    "\n",
    "Ordinary Least Squares regression methods are only interested in minimising one thing, the Residual Sum of Squares, or $RSS$. This approach has many problems that come up in practical applications, such as being highly sensitive to multicolinearity (if multiple variables give the same info, the variance of your estimates skyrocket) and differences between your training data and your testing data (variance). \n",
    "\n",
    "Ridge Regression is a way of dealing with these issues by penalizing large regression coefficients. Large regression coefficients mean that the model \"believes\" in a strong relationship between the response variable and the explanatory variable. By penalizing large values of regression coefficients, we are telling the model to slow its roll, and to not put as much store in the training data as OLS does. \n",
    "\n",
    "Ridge regression minimises: \n",
    "$$RSS + \\sum_{i\\neq0}\\lambda\\hat{\\beta_{i}^2}$$\n",
    "\n",
    "Where $\\lambda$ is some constant. The optimal constant is not known, so it is chosen with cross-validation.\n",
    "\n",
    "#### Ridge Regression Workflow:\n",
    "\n",
    "1. Split your data into training and test sets\n",
    "2. `linear_model.Lasso()` and `model.fit()` for different values of alpha on your training set\n",
    "3. Get the R^2 of your model on the test set\n",
    "4. Choose the alpha that minimises this\n",
    "5. Use your model to make predictions\n",
    "\n",
    "#### Notes:\n",
    "\n",
    "Ridge Regression is not really a model selection criterion, for a subtle reason we will discuss in the question section. Do model selection first.\n",
    "\n",
    "OLS is a poor model when $p>n$ because there are multiple optimal hyperlines that minimise RSS, but Ridge Regression will give you a unique estimate!\n",
    "\n",
    "#### Questions:\n",
    "\n",
    "1. What is $\\lim_{\\lambda\\to\\infty}\\hat{\\beta}$ in Ridge Regression? Why is this true? Does this quantity ever actually reach 0?\n",
    "2. What is $\\hat{\\beta}$ in Ridge Regression when $\\lambda = 0$ in terms of the OLS estimate? Why is this true?\n",
    "\n",
    "### LASSO (least absolute shrinkage and selection operator)\n",
    "\n",
    "LASSO is very similar to Ridge Regression, and is used for much the same purposes. Instead of minimising \n",
    "\n",
    "$$RSS + \\sum_{i\\neq0}\\lambda\\hat{\\beta_{i}^2}$$\n",
    "\n",
    "LASSO minimises:\n",
    "\n",
    "$$RSS + \\sum_{i\\neq0}\\lambda|\\hat{\\beta_{i}|}$$\n",
    "\n",
    "LASSO therefore penalizes large values of beta coefficients as well, but with a major difference. As $\\lambda$ increases, beta coefficients of bad variables will disappear completely, making LASSO a viable variable selection process! This property makes LASSO almost universally preferable, especially in cases where $p>n$, as many useless explanatory variables tend to fall away automatically with the LASSO penalty.\n",
    "\n",
    "## Topics in Classification\n",
    "\n",
    "### k-nearest neighbors\n",
    "\n",
    "#### Implementation:\n",
    "\n",
    "1. Define a notion of distance\n",
    "2. For a given observation, take the k-nearest points to the observations from your training set and see which category a plurality of them fall into.\n",
    "3. Classify the observation as the same as that plurality\n",
    "\n",
    "The notion of distance you define is very important, and can drastically change the classifications that your algorithm gives. This is also true for the value of k.\n",
    "\n",
    "This is a very empirical method without many closed-form equations, so the choice of k and the choice of metric are often chosen via cross-validation. \n",
    "\n",
    "The justification for KNN relies on the assumption that points close to each other by a metric are classified the same way according to your chosen features. This may seem tautological, but there are many cases where this is not true. For example, classifying political affiliation by a KNN algorithm using income is misguided, as political parties tend to attract people from all over the income spectrum (empirically). So do a sanity check before you implement KNN to see if what you are doing makes sense.\n",
    "\n",
    "### Decision Trees\n",
    "\n",
    "#### Implementation:\n",
    "\n",
    "1. Calculate the Entropy of your data\n",
    "2. Draw Boundaries\n",
    "3. Calculate the Entropy of the data within the boundaries only\n",
    "4. Sum the Entropies of the bounded data together and compare with the Entropy of the entire set.\n",
    "5. Cross-validate using many choices of boundary and choose the one with the lowest sum of entropies.\n",
    "\n",
    "Often, to prevent overfitting, we limit the number of boundaries or splits the decision tree has. The more splits your tree has, the more bias that it contains, in general. \n",
    "\n",
    "### Bootstrapping\n",
    "\n",
    "Many statistical quantities have no closed form expression, or a very complex one that is difficult to work with (canonical example is the distribution of the median, which often has no formula). To estimate them, we can treat the sample as the population by sampling it with replacement to get new samples. From these samples, we can calculate the empirical value of the quantity of interest (The formula for the median of a distribution often doesn't exist, but actually calculating it from a sample is trivial). Then we get an empirical distribution of the quantity of interest.\n",
    "\n",
    "A rule of thumb is that Bootstrap estimates are often approximately unbiased when there are no outliers.\n",
    "\n",
    "#### Question:\n",
    "\n",
    "I am interested in the kurtosis of an unknown distribution, defined\n",
    "\n",
    "$$Kurt[X] = E[(\\frac{X-\\mu}{\\sigma})^4]$$\n",
    "\n",
    "I have a sample of size n from this distribution. How would I use Bootstrap to get an estimate for kurtosis?\n",
    "\n",
    "### Random Forest\n",
    "\n",
    "Bootstrapping is a general method. So general, in fact, that it can even be used to get a \"distribution\" of decision trees! If you bootstrap the data and get lots of datasets, you can fit a decision tree to each. Then, when you have a new observation, see how each of the decision trees classifies it, and return the most common result. \n",
    "\n",
    "This method is called Random Forest, because it entails making lots of trees.\n",
    "\n",
    "## Topics in Neural Networks, Briefly\n",
    "\n",
    "We talked about feedforward neural networks in the last lecture.\n",
    "\n",
    "Intuitively, a feedforward neural network can consist of three levels with corresponding neurons:\n",
    "1. Input Layer: The Input layer has is where $X_i$ from the previous example are inputted. The outputs from the Input layer are just the input $X_i$ and the bias. These are moved into the Hidden Layer.\n",
    "2. Hidden Layer – The Hidden layers contain neurons that move numbers from the input neurons to the output neurons. They take in the inputs from the input layer. In the running example with car classification, the hidden layers can be items such as \"number of seats\" or \"weight\". The hidden layers represent the different steps it takes to classify a vehicle. The number of neurons in the hidden layers are determined by the user. There can be as many hidden layers as necessary depending on the problem.\n",
    "3. Output Layer – The neurons in the output layer are the results that the NN returns.\n",
    "\n",
    "The final product will be the output of this model, which is a composition of the activation functions, their weights, plus some bias. The advantages that neural networks have over other models include the fact that that they can easily be made to be non-linear with the correct choice of activation function, and the fact that the weights can be modified with various methods (gradient descent, e.g.) to pursue a better model over time."
   ]
  },
  {
   "cell_type": "markdown",
   "metadata": {},
   "source": [
    "# Benchmarks for Various Techniques\n",
    "\n",
    "## Feature engineering"
   ]
  },
  {
   "cell_type": "code",
   "execution_count": 2,
   "metadata": {},
   "outputs": [
    {
     "name": "stdout",
     "output_type": "stream",
     "text": [
      "(1460, 79) (1459, 79) (2919, 79)\n"
     ]
    },
    {
     "data": {
      "text/html": [
       "<div>\n",
       "<style scoped>\n",
       "    .dataframe tbody tr th:only-of-type {\n",
       "        vertical-align: middle;\n",
       "    }\n",
       "\n",
       "    .dataframe tbody tr th {\n",
       "        vertical-align: top;\n",
       "    }\n",
       "\n",
       "    .dataframe thead th {\n",
       "        text-align: right;\n",
       "    }\n",
       "</style>\n",
       "<table border=\"1\" class=\"dataframe\">\n",
       "  <thead>\n",
       "    <tr style=\"text-align: right;\">\n",
       "      <th></th>\n",
       "      <th>MSSubClass</th>\n",
       "      <th>MSZoning</th>\n",
       "      <th>LotFrontage</th>\n",
       "      <th>LotArea</th>\n",
       "      <th>Street</th>\n",
       "      <th>Alley</th>\n",
       "      <th>LotShape</th>\n",
       "      <th>LandContour</th>\n",
       "      <th>Utilities</th>\n",
       "      <th>LotConfig</th>\n",
       "      <th>...</th>\n",
       "      <th>ScreenPorch</th>\n",
       "      <th>PoolArea</th>\n",
       "      <th>PoolQC</th>\n",
       "      <th>Fence</th>\n",
       "      <th>MiscFeature</th>\n",
       "      <th>MiscVal</th>\n",
       "      <th>MoSold</th>\n",
       "      <th>YrSold</th>\n",
       "      <th>SaleType</th>\n",
       "      <th>SaleCondition</th>\n",
       "    </tr>\n",
       "  </thead>\n",
       "  <tbody>\n",
       "    <tr>\n",
       "      <th>0</th>\n",
       "      <td>60</td>\n",
       "      <td>RL</td>\n",
       "      <td>65.0</td>\n",
       "      <td>8450</td>\n",
       "      <td>Pave</td>\n",
       "      <td>NaN</td>\n",
       "      <td>Reg</td>\n",
       "      <td>Lvl</td>\n",
       "      <td>AllPub</td>\n",
       "      <td>Inside</td>\n",
       "      <td>...</td>\n",
       "      <td>0</td>\n",
       "      <td>0</td>\n",
       "      <td>NaN</td>\n",
       "      <td>NaN</td>\n",
       "      <td>NaN</td>\n",
       "      <td>0</td>\n",
       "      <td>2</td>\n",
       "      <td>2008</td>\n",
       "      <td>WD</td>\n",
       "      <td>Normal</td>\n",
       "    </tr>\n",
       "    <tr>\n",
       "      <th>1</th>\n",
       "      <td>20</td>\n",
       "      <td>RL</td>\n",
       "      <td>80.0</td>\n",
       "      <td>9600</td>\n",
       "      <td>Pave</td>\n",
       "      <td>NaN</td>\n",
       "      <td>Reg</td>\n",
       "      <td>Lvl</td>\n",
       "      <td>AllPub</td>\n",
       "      <td>FR2</td>\n",
       "      <td>...</td>\n",
       "      <td>0</td>\n",
       "      <td>0</td>\n",
       "      <td>NaN</td>\n",
       "      <td>NaN</td>\n",
       "      <td>NaN</td>\n",
       "      <td>0</td>\n",
       "      <td>5</td>\n",
       "      <td>2007</td>\n",
       "      <td>WD</td>\n",
       "      <td>Normal</td>\n",
       "    </tr>\n",
       "    <tr>\n",
       "      <th>2</th>\n",
       "      <td>60</td>\n",
       "      <td>RL</td>\n",
       "      <td>68.0</td>\n",
       "      <td>11250</td>\n",
       "      <td>Pave</td>\n",
       "      <td>NaN</td>\n",
       "      <td>IR1</td>\n",
       "      <td>Lvl</td>\n",
       "      <td>AllPub</td>\n",
       "      <td>Inside</td>\n",
       "      <td>...</td>\n",
       "      <td>0</td>\n",
       "      <td>0</td>\n",
       "      <td>NaN</td>\n",
       "      <td>NaN</td>\n",
       "      <td>NaN</td>\n",
       "      <td>0</td>\n",
       "      <td>9</td>\n",
       "      <td>2008</td>\n",
       "      <td>WD</td>\n",
       "      <td>Normal</td>\n",
       "    </tr>\n",
       "    <tr>\n",
       "      <th>3</th>\n",
       "      <td>70</td>\n",
       "      <td>RL</td>\n",
       "      <td>60.0</td>\n",
       "      <td>9550</td>\n",
       "      <td>Pave</td>\n",
       "      <td>NaN</td>\n",
       "      <td>IR1</td>\n",
       "      <td>Lvl</td>\n",
       "      <td>AllPub</td>\n",
       "      <td>Corner</td>\n",
       "      <td>...</td>\n",
       "      <td>0</td>\n",
       "      <td>0</td>\n",
       "      <td>NaN</td>\n",
       "      <td>NaN</td>\n",
       "      <td>NaN</td>\n",
       "      <td>0</td>\n",
       "      <td>2</td>\n",
       "      <td>2006</td>\n",
       "      <td>WD</td>\n",
       "      <td>Abnorml</td>\n",
       "    </tr>\n",
       "    <tr>\n",
       "      <th>4</th>\n",
       "      <td>60</td>\n",
       "      <td>RL</td>\n",
       "      <td>84.0</td>\n",
       "      <td>14260</td>\n",
       "      <td>Pave</td>\n",
       "      <td>NaN</td>\n",
       "      <td>IR1</td>\n",
       "      <td>Lvl</td>\n",
       "      <td>AllPub</td>\n",
       "      <td>FR2</td>\n",
       "      <td>...</td>\n",
       "      <td>0</td>\n",
       "      <td>0</td>\n",
       "      <td>NaN</td>\n",
       "      <td>NaN</td>\n",
       "      <td>NaN</td>\n",
       "      <td>0</td>\n",
       "      <td>12</td>\n",
       "      <td>2008</td>\n",
       "      <td>WD</td>\n",
       "      <td>Normal</td>\n",
       "    </tr>\n",
       "  </tbody>\n",
       "</table>\n",
       "<p>5 rows × 79 columns</p>\n",
       "</div>"
      ],
      "text/plain": [
       "   MSSubClass MSZoning  LotFrontage  LotArea Street Alley LotShape  \\\n",
       "0          60       RL         65.0     8450   Pave   NaN      Reg   \n",
       "1          20       RL         80.0     9600   Pave   NaN      Reg   \n",
       "2          60       RL         68.0    11250   Pave   NaN      IR1   \n",
       "3          70       RL         60.0     9550   Pave   NaN      IR1   \n",
       "4          60       RL         84.0    14260   Pave   NaN      IR1   \n",
       "\n",
       "  LandContour Utilities LotConfig      ...       ScreenPorch PoolArea PoolQC  \\\n",
       "0         Lvl    AllPub    Inside      ...                 0        0    NaN   \n",
       "1         Lvl    AllPub       FR2      ...                 0        0    NaN   \n",
       "2         Lvl    AllPub    Inside      ...                 0        0    NaN   \n",
       "3         Lvl    AllPub    Corner      ...                 0        0    NaN   \n",
       "4         Lvl    AllPub       FR2      ...                 0        0    NaN   \n",
       "\n",
       "  Fence MiscFeature MiscVal  MoSold  YrSold  SaleType  SaleCondition  \n",
       "0   NaN         NaN       0       2    2008        WD         Normal  \n",
       "1   NaN         NaN       0       5    2007        WD         Normal  \n",
       "2   NaN         NaN       0       9    2008        WD         Normal  \n",
       "3   NaN         NaN       0       2    2006        WD        Abnorml  \n",
       "4   NaN         NaN       0      12    2008        WD         Normal  \n",
       "\n",
       "[5 rows x 79 columns]"
      ]
     },
     "execution_count": 2,
     "metadata": {},
     "output_type": "execute_result"
    }
   ],
   "source": [
    "trainData = pd.read_csv('./input/train.csv')\n",
    "y = np.array(trainData['SalePrice']) \n",
    "trainData.drop(['Id', 'SalePrice'], axis=1, inplace=True)\n",
    "testData = pd.read_csv('./input/test.csv')\n",
    "testData.drop(['Id'], axis=1, inplace=True)\n",
    "data = pd.concat([trainData, testData])\n",
    "print(trainData.shape, testData.shape, data.shape)\n",
    "data.head()"
   ]
  },
  {
   "cell_type": "code",
   "execution_count": 3,
   "metadata": {},
   "outputs": [
    {
     "data": {
      "text/plain": [
       "(2919, 79)"
      ]
     },
     "execution_count": 3,
     "metadata": {},
     "output_type": "execute_result"
    }
   ],
   "source": [
    "trainAndTest = pd.concat([trainData, testData])\n",
    "trainAndTest.shape"
   ]
  },
  {
   "cell_type": "markdown",
   "metadata": {},
   "source": [
    "Here, we can define a function to add variables to our dataframe."
   ]
  },
  {
   "cell_type": "code",
   "execution_count": 4,
   "metadata": {},
   "outputs": [],
   "source": [
    "dfs = [trainData, trainAndTest]\n",
    "#A function for adding new variables\n",
    "def addNewFeature(featureName, featureValues):\n",
    "    for df in dfs:\n",
    "        if(len(df) == len(trainData)):\n",
    "            df[featureName] = featureValues[0:len(trainData)]\n",
    "        else:\n",
    "            df[featureName] = featureValues\n",
    "        df[featureName] = df[featureName].astype(int)"
   ]
  },
  {
   "cell_type": "markdown",
   "metadata": {},
   "source": [
    "Some possible features to add: "
   ]
  },
  {
   "cell_type": "code",
   "execution_count": 5,
   "metadata": {},
   "outputs": [],
   "source": [
    "#Remodeled after construction\n",
    "addNewFeature('RemodAC', np.logical_and(trainAndTest.YearRemodAdd - trainAndTest.YearBuilt, \n",
    "                                        trainAndTest.YearBuilt))"
   ]
  },
  {
   "cell_type": "code",
   "execution_count": 6,
   "metadata": {},
   "outputs": [],
   "source": [
    "#\"Age\"\n",
    "addNewFeature('Age', 2008 - trainAndTest.YearBuilt)"
   ]
  },
  {
   "cell_type": "code",
   "execution_count": 7,
   "metadata": {},
   "outputs": [],
   "source": [
    "#we don't need these features anymore\n",
    "trainAndTest = trainAndTest.drop(['YearRemodAdd',  'YearBuilt'], axis=1)"
   ]
  },
  {
   "cell_type": "markdown",
   "metadata": {},
   "source": [
    "## Data Preprocessing"
   ]
  },
  {
   "cell_type": "code",
   "execution_count": 8,
   "metadata": {},
   "outputs": [
    {
     "name": "stderr",
     "output_type": "stream",
     "text": [
      "C:\\ProgramData\\Anaconda3\\lib\\site-packages\\ipykernel_launcher.py:13: RuntimeWarning: invalid value encountered in log1p\n",
      "  del sys.path[0]\n"
     ]
    }
   ],
   "source": [
    "from scipy.stats import skew\n",
    "\n",
    "#log transform the target:\n",
    "y = np.log1p(y)\n",
    "\n",
    "#log transform skewed numeric features:\n",
    "numeric_feats = trainAndTest.dtypes[trainAndTest.dtypes != \"object\"].index\n",
    "\n",
    "skewed_feats = trainData[numeric_feats].apply(lambda x: skew(x.dropna())) #compute skewness\n",
    "skewed_feats = skewed_feats[skewed_feats > 0.75]\n",
    "skewed_feats = skewed_feats.index\n",
    "\n",
    "trainAndTest[skewed_feats] = np.log1p(trainAndTest[skewed_feats])"
   ]
  },
  {
   "cell_type": "markdown",
   "metadata": {},
   "source": [
    "Dealing with NaN values:"
   ]
  },
  {
   "cell_type": "code",
   "execution_count": 9,
   "metadata": {},
   "outputs": [
    {
     "name": "stdout",
     "output_type": "stream",
     "text": [
      "MSZoning NaNs:  4\n",
      "Alley NaNs:  2721\n",
      "Utilities NaNs:  2\n",
      "Exterior1st NaNs:  1\n",
      "Exterior2nd NaNs:  1\n",
      "MasVnrType NaNs:  24\n",
      "BsmtQual NaNs:  81\n",
      "BsmtCond NaNs:  82\n",
      "BsmtExposure NaNs:  82\n",
      "BsmtFinType1 NaNs:  79\n",
      "BsmtFinType2 NaNs:  80\n",
      "Electrical NaNs:  1\n",
      "KitchenQual NaNs:  1\n",
      "Functional NaNs:  2\n",
      "FireplaceQu NaNs:  1420\n",
      "GarageType NaNs:  157\n",
      "GarageFinish NaNs:  159\n",
      "GarageQual NaNs:  159\n",
      "GarageCond NaNs:  159\n",
      "PoolQC NaNs:  2909\n",
      "Fence NaNs:  2348\n",
      "MiscFeature NaNs:  2814\n",
      "SaleType NaNs:  1\n",
      "Columns with NaNs:  23\n"
     ]
    }
   ],
   "source": [
    "catFswithNaNs = []\n",
    "for clmn in trainAndTest.loc[:, trainAndTest.dtypes == object]:\n",
    "    nans =  trainAndTest[clmn].isnull().sum().sum()\n",
    "    if(nans != 0):\n",
    "        catFswithNaNs.append(clmn)\n",
    "        print(clmn + ' NaNs: ', trainAndTest[clmn].isnull().sum().sum())\n",
    "\n",
    "print('Columns with NaNs: ', len(catFswithNaNs))"
   ]
  },
  {
   "cell_type": "code",
   "execution_count": 10,
   "metadata": {},
   "outputs": [],
   "source": [
    "catFsWithNaNCategory = ['Alley', 'MasVnrType', 'BsmtQual', 'BsmtCond', 'BsmtExposure', 'BsmtFinType1', \n",
    "                        'BsmtFinType2', 'FireplaceQu', 'GarageType', 'GarageFinish', 'GarageQual', 'GarageCond', \n",
    "                        'PoolQC', 'Fence', 'MiscFeature']\n",
    "for clmn in catFsWithNaNCategory:\n",
    "    trainAndTest.loc[trainAndTest[clmn].isnull(), clmn] = 'No' + clmn"
   ]
  },
  {
   "cell_type": "code",
   "execution_count": 11,
   "metadata": {},
   "outputs": [],
   "source": [
    "#For categorical data, replace with most common value\n",
    "catFswithNaNs = [clmn for clmn in catFswithNaNs if clmn not in catFsWithNaNCategory]\n",
    "for clmn in catFswithNaNs:\n",
    "    mcvOfClmn = trainAndTest[clmn].value_counts().idxmax()\n",
    "    trainAndTest.loc[trainAndTest[clmn].isnull(), clmn] = mcvOfClmn"
   ]
  },
  {
   "cell_type": "code",
   "execution_count": 12,
   "metadata": {},
   "outputs": [],
   "source": [
    "trainAndTest = pd.get_dummies(trainAndTest)"
   ]
  },
  {
   "cell_type": "code",
   "execution_count": 13,
   "metadata": {},
   "outputs": [],
   "source": [
    "a = trainAndTest.loc[np.logical_not(trainAndTest[\"LotFrontage\"].isnull()), \"LotArea\"]\n",
    "b = trainAndTest.loc[np.logical_not(trainAndTest[\"LotFrontage\"].isnull()), \"LotFrontage\"]\n",
    "# plt.scatter(x, y)\n",
    "t = (a <= 25000) & (b <= 150)\n",
    "p = np.polyfit(a[t], b[t], 1)\n",
    "trainAndTest.loc[trainAndTest['LotFrontage'].isnull(), 'LotFrontage'] = np.polyval(p,\n",
    "                                    trainAndTest.loc[trainAndTest['LotFrontage'].isnull(), 'LotArea'])"
   ]
  },
  {
   "cell_type": "code",
   "execution_count": 14,
   "metadata": {},
   "outputs": [],
   "source": [
    "# trainAndTest = trainAndTest.fillna(trainAndTest.mean())\n",
    "# Filling in missing values with column means\n",
    "\n",
    "from sklearn.preprocessing import Imputer\n",
    "\n",
    "toImpute = list(trainAndTest.columns)\n",
    "\n",
    "imp = Imputer(missing_values = 'NaN', strategy='mean', axis=0)\n",
    "tmp = imp.fit_transform(trainAndTest[toImpute])\n",
    "\n",
    "i = 0\n",
    "for clmn in toImpute:\n",
    "    trainAndTest[clmn] = tmp[:, i]\n",
    "    i+=1"
   ]
  },
  {
   "cell_type": "code",
   "execution_count": 15,
   "metadata": {},
   "outputs": [],
   "source": [
    "#Final touches before applying estimators\n",
    "X = trainAndTest[:trainData.shape[0]]\n",
    "X_test = trainAndTest[trainData.shape[0]:]"
   ]
  },
  {
   "cell_type": "markdown",
   "metadata": {},
   "source": [
    "## Ridge Regression"
   ]
  },
  {
   "cell_type": "code",
   "execution_count": 16,
   "metadata": {},
   "outputs": [],
   "source": [
    "from sklearn.linear_model import Ridge, Lasso\n",
    "from sklearn.model_selection import cross_val_score\n",
    "\n",
    "def rmse_cv(model):\n",
    "    rmse= np.sqrt(-cross_val_score(model, X, y, scoring=\"neg_mean_squared_error\", cv = 20))\n",
    "    return(rmse)"
   ]
  },
  {
   "cell_type": "code",
   "execution_count": 17,
   "metadata": {},
   "outputs": [],
   "source": [
    "model_ridge = Ridge()\n",
    "def ridge_model_evaluation(alphas):\n",
    "    cv_ridge = [rmse_cv(Ridge(alpha = alpha)).mean() for alpha in alphas]\n",
    "    cv_ridge = pd.Series(cv_ridge, index = alphas)\n",
    "    cv_ridge.plot(title = \"Ridge\")\n",
    "    plt.xlabel(\"alpha\")\n",
    "    plt.ylabel(\"rmse\")\n",
    "    plt.show()"
   ]
  },
  {
   "cell_type": "code",
   "execution_count": 18,
   "metadata": {},
   "outputs": [
    {
     "data": {
      "image/png": "[encoded data removed]",
      "text/plain": [
       "<Figure size 432x288 with 1 Axes>"
      ]
     },
     "metadata": {
      "needs_background": "light"
     },
     "output_type": "display_data"
    }
   ],
   "source": [
    "alphas = list(np.linspace(7.4, 7.8, 10))\n",
    "ridge_model_evaluation(alphas)"
   ]
  },
  {
   "cell_type": "code",
   "execution_count": 19,
   "metadata": {},
   "outputs": [
    {
     "name": "stdout",
     "output_type": "stream",
     "text": [
      "CV-20:  0.12565891962811293\n"
     ]
    }
   ],
   "source": [
    "model_ridge = Ridge(alpha=7.65)\n",
    "model_ridge.fit(X, y)\n",
    "print('CV-20: ', np.mean(rmse_cv(model_ridge)))"
   ]
  },
  {
   "cell_type": "markdown",
   "metadata": {},
   "source": [
    "# LASSO Regression"
   ]
  },
  {
   "cell_type": "code",
   "execution_count": 20,
   "metadata": {},
   "outputs": [],
   "source": [
    "model_lasso = Lasso()\n",
    "def lasso_model_evaluation(alphas):\n",
    "    cv_ridge = [rmse_cv(Lasso(alpha = alpha)).mean() for alpha in alphas]\n",
    "    cv_ridge = pd.Series(cv_ridge, index = alphas)\n",
    "    cv_ridge.plot(title = \"Lasso\")\n",
    "    plt.xlabel(\"alpha\")\n",
    "    plt.ylabel(\"rmse\")\n",
    "    plt.show()"
   ]
  },
  {
   "cell_type": "code",
   "execution_count": 21,
   "metadata": {},
   "outputs": [
    {
     "data": {
      "image/png": "[encoded data removed]",
      "text/plain": [
       "<Figure size 432x288 with 1 Axes>"
      ]
     },
     "metadata": {
      "needs_background": "light"
     },
     "output_type": "display_data"
    }
   ],
   "source": [
    "alphas = list(np.arange(0.0001, 0.001, 0.0001))\n",
    "lasso_model_evaluation(alphas)"
   ]
  },
  {
   "cell_type": "code",
   "execution_count": 22,
   "metadata": {},
   "outputs": [
    {
     "name": "stdout",
     "output_type": "stream",
     "text": [
      "CV-20:  0.12137816022827772\n"
     ]
    }
   ],
   "source": [
    "model_lasso = Lasso(alpha=0.0004)\n",
    "model_lasso.fit(X, y)\n",
    "print('CV-20: ', np.mean(rmse_cv(model_lasso)))"
   ]
  },
  {
   "cell_type": "markdown",
   "metadata": {},
   "source": [
    "## Decision Trees"
   ]
  },
  {
   "cell_type": "code",
   "execution_count": 23,
   "metadata": {},
   "outputs": [],
   "source": [
    "from sklearn.tree import DecisionTreeRegressor\n",
    "\n",
    "model_tree = DecisionTreeRegressor()\n",
    "\n",
    "def DTR_model_evaluation(max_depths):\n",
    "    cv_ridge = [rmse_cv(DecisionTreeRegressor(max_depth = md)).mean() for md in max_depths]\n",
    "    cv_ridge = pd.Series(cv_ridge, index = max_depths)\n",
    "    cv_ridge.plot(title = \"DecisionTreeRegressor\")\n",
    "    plt.xlabel(\"max_depth\")\n",
    "    plt.ylabel(\"rmse\")\n",
    "    plt.show()"
   ]
  },
  {
   "cell_type": "code",
   "execution_count": 24,
   "metadata": {},
   "outputs": [
    {
     "data": {
      "image/png": "[encoded data removed]",
      "text/plain": [
       "<Figure size 432x288 with 1 Axes>"
      ]
     },
     "metadata": {
      "needs_background": "light"
     },
     "output_type": "display_data"
    }
   ],
   "source": [
    "max_depths = list(np.arange(1, 11, 1))\n",
    "DTR_model_evaluation(max_depths)"
   ]
  },
  {
   "cell_type": "code",
   "execution_count": 29,
   "metadata": {},
   "outputs": [
    {
     "name": "stdout",
     "output_type": "stream",
     "text": [
      "CV-20:  0.18785825275839854\n"
     ]
    }
   ],
   "source": [
    "model_tree = DecisionTreeRegressor(max_depth=7)\n",
    "model_tree.fit(X, y)\n",
    "print('CV-20: ', np.mean(rmse_cv(model_tree)))"
   ]
  },
  {
   "cell_type": "markdown",
   "metadata": {},
   "source": [
    "## Random Forest\n",
    "\n",
    "Note: This will take eons to run, the CV score is 0.14ish"
   ]
  },
  {
   "cell_type": "code",
   "execution_count": 26,
   "metadata": {},
   "outputs": [
    {
     "name": "stderr",
     "output_type": "stream",
     "text": [
      "C:\\ProgramData\\Anaconda3\\lib\\site-packages\\sklearn\\ensemble\\weight_boosting.py:29: DeprecationWarning: numpy.core.umath_tests is an internal NumPy module and should not be imported. It will be removed in a future NumPy release.\n",
      "  from numpy.core.umath_tests import inner1d\n"
     ]
    }
   ],
   "source": [
    "from sklearn.ensemble import RandomForestRegressor\n",
    "\n",
    "model_forest = RandomForestRegressor()\n",
    "\n",
    "def RFR_model_evaluation(estimatorsL):\n",
    "    cv_ridge = [rmse_cv(RandomForestRegressor(n_estimators = estimators, n_jobs=-1)).mean() for estimators in estimatorsL]\n",
    "    cv_ridge = pd.Series(cv_ridge, index = estimatorsL)\n",
    "    cv_ridge.plot(title = \"RandomForestRegressor\")\n",
    "    plt.xlabel(\"n_estimator\")\n",
    "    plt.ylabel(\"rmse\")\n",
    "    plt.show()"
   ]
  },
  {
   "cell_type": "code",
   "execution_count": 27,
   "metadata": {},
   "outputs": [
    {
     "data": {
      "image/png": "[encoded data removed]",
      "text/plain": [
       "<Figure size 432x288 with 1 Axes>"
      ]
     },
     "metadata": {
      "needs_background": "light"
     },
     "output_type": "display_data"
    }
   ],
   "source": [
    "estimatorsL = list(np.arange(70, 150, 20))\n",
    "RFR_model_evaluation(estimatorsL)"
   ]
  },
  {
   "cell_type": "code",
   "execution_count": 28,
   "metadata": {
    "scrolled": true
   },
   "outputs": [
    {
     "name": "stdout",
     "output_type": "stream",
     "text": [
      "CV-20:  0.14064869261604823\n"
     ]
    }
   ],
   "source": [
    "model_forest = RandomForestRegressor(n_estimators=170, n_jobs=-1)\n",
    "model_forest.fit(X, y)\n",
    "print('CV-20: ', np.mean(rmse_cv(model_forest)))"
   ]
  },
  {
   "cell_type": "markdown",
   "metadata": {},
   "source": [
    "## Works Cited\n",
    "\n",
    "https://www.kaggle.com/sherafgan/lin-r-methods-decision-tree-random-forest-0-121"
   ]
  },
  {
   "cell_type": "markdown",
   "metadata": {},
   "source": [
    "## Neural Network\n",
    "\n",
    "https://www.kaggle.com/diegosiebra/neural-network-model-for-house-prices-keras"
   ]
  },
  {
   "cell_type": "markdown",
   "metadata": {},
   "source": [
    "# Your Turn!\n",
    "\n",
    "We are all excited to see what you've done for the Kaggle competition! We would like to go around the room and ask each group what methods you used for the challenge, what challenges you faced, and how well you ultimately did. Please participate, because the groups with the best performing solution will get a prize!\n",
    "\n",
    "Come up to the podium, plug in your computer, and explain your model on screen.\n",
    "\n",
    "# INSERT KAGGLE LEADERBOARD STUFF HERE\n",
    "\n",
    "# Further Reading, Topics\n",
    "\n",
    "* General model selection techniques: [AIC](https://www.google.com/url?sa=t&rct=j&q=&esrc=s&source=web&cd=16&ved=2ahUKEwj05MGkqO_eAhW-JTQIHQl1Cg0QFjAPegQIDBAC&url=http%3A%2F%2Fstatweb.stanford.edu%2F~jtaylo%2Fcourses%2Fstats203%2Fnotes%2Fselection.pdf&usg=AOvVaw3s66HL1yMIZRvy1A5kMW7y), AICc, and BIC\n",
    "* [Logit and Probit models](https://www.google.com/url?sa=t&rct=j&q=&esrc=s&source=web&cd=13&ved=2ahUKEwih9-TjqO_eAhUoHzQIHTJdAwwQFjAMegQICRAC&url=http%3A%2F%2Fwww.columbia.edu%2F~so33%2FSusDev%2FLecture_9.pdf&usg=AOvVaw1IYCAt3W7q8RxZ29oyaYFZ) for categorical linear regression\n",
    "* [Time Series Models and Analysis](https://otexts.org/fpp2/arima.html)\n",
    "* [Principal Component Analysis](https://towardsdatascience.com/a-one-stop-shop-for-principal-component-analysis-5582fb7e0a9c)\n",
    "* [XGBoost](https://machinelearningmastery.com/gentle-introduction-xgboost-applied-machine-learning/)"
   ]
  },
  {
   "cell_type": "markdown",
   "metadata": {},
   "source": [
    "# That's all folks! \n",
    "\n",
    "We've reached the end of a long semester. Getting to know you all and to introduce you to the world of statistical computing has been as much of a journey for us as it has undoubtedly been for many of you. We hope that your participation in SUSA has given you the tools to begin to pursue your goals in statistics and beyond. We can't imagine the things that you'll go on to achieve, but it's our hope that you will continue to pursue those things in SUSA next semester. \n",
    "\n",
    "Sincerely,\n",
    "\n",
    "Your Friends at the Education Committee <3"
   ]
  },
  {
   "cell_type": "code",
   "execution_count": null,
   "metadata": {},
   "outputs": [],
   "source": []
  }
 ],
 "metadata": {
  "kernelspec": {
   "display_name": "Python 3",
   "language": "python",
   "name": "python3"
  },
  "language_info": {
   "codemirror_mode": {
    "name": "ipython",
    "version": 3
   },
   "file_extension": ".py",
   "mimetype": "text/x-python",
   "name": "python",
   "nbconvert_exporter": "python",
   "pygments_lexer": "ipython3",
   "version": "3.7.0"
  }
 },
 "nbformat": 4,
 "nbformat_minor": 2
}

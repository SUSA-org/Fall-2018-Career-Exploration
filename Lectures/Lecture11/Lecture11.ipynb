{
 "cells": [
  {
   "cell_type": "code",
   "execution_count": 5,
   "metadata": {},
   "outputs": [],
   "source": [
    "%matplotlib inline\n",
    "\n",
    "import pandas as pd\n",
    "pd.options.mode.chained_assignment = None\n",
    "import numpy as np\n",
    "import scipy as sp\n",
    "import matplotlib.pyplot as plt\n",
    "from matplotlib import style\n",
    "style.use('ggplot')"
   ]
  },
  {
   "cell_type": "markdown",
   "metadata": {},
   "source": [
    "# Kaggle Recap and Review\n",
    "\n",
    "by Nicholas Lai, Danielle Sugrue, and Nichole Sun\n",
    "\n",
    "Maintained by the Statistics Undergraduate Student Association at UC Berkeley\n",
    "\n",
    "\n",
    "## Data Cleaning:\n",
    "\n",
    "### Train versus Test Set\n",
    "\n",
    "We split our data into training and testing sets. This is crucial because we need a dataset in order to form our linear model, but we also need to test our linear model on another set to ensure that we are not overfitting to our training set. In general your training set is the \"ideal\" dataset, which lacks outliers and contains pristine data. Your test set is the data that your model is applied to. For our purposes, we split our data as evenly as possible between training and testing.\n",
    "\n",
    "### NA Values\n",
    "\n",
    "There are a variety of ways to deal with NA values:\n",
    "\n",
    "> Drop rows or columns that have NA values: make sure to distinguish between rows and columns, and decide if removing rows or columns could tarnish your linear model. \n",
    "- `train.drop()`, `test.drop()` to drop columns\n",
    "- `train.drop(train.index[], inplace=True)` to drop rows\n",
    "\n",
    "> Rename \"NA\" so your model can digest your dataset: change \"NA\" to another string so that \"NA\" is interpreted as a value, and not a lack of value.\n",
    "\n",
    "Question: How did we distinguish between features that had NA values and features that had NA as an actual meaningful value? (recall Miscellaneous Features vs. Alley)\n",
    "\n",
    "### Qualitative Features\n",
    "\n",
    "How do we deal with qualitative features when we are trying to create a linear model that requires numeric inputs?\n",
    "\n",
    "> __One Hot Encoding__: use `get_dummies` to change qualitative to quantitative values\n",
    "\n",
    "_One Hot Encoding_\n",
    "\n",
    "Change the elements in a categorical column from strings to integers (generally starting from 0 and increasing by 1), then create new columns for each unique category. First you are encoding the labels in a column as numbers, and then you are using these new numeric values to create columns which are encoded based on each unique numeric value which return a 1 if the given row contains that feature and a 0 otherwise.\n",
    "\n",
    "### Important Commands: `.iloc[]` and `.loc[]`\n",
    "\n",
    "These commands are for __location-based indexing__.\n",
    "\n",
    "> `dataframe.iloc[]` is a location-based indexer that we can use to hone in on a specific row or column. Suppose we just want to hone in on one particular house sale -- let's say the 1457th house in our list. The 1457th house would be indexed at 1456, since we index starting with 0 in python.\n",
    "\n",
    "> `dataframe.loc[]` is a location-based indexer that we can use to hone in on a specific row or column value. Suppose we just want to hone in on one particular house feature -- MSSubClass value 60. We show how to do that below.\n",
    "\n",
    "### Scaling\n",
    "\n",
    "> StandardScaler - subtract the mean and divide by std \n",
    "> MaxAbsScaler - transform the absolute values of all the absolute value to [0, 1] bounds \n",
    "> We also can take the logarithm of each column value in order to better visualize large variations in our data.\n",
    "\n",
    "### Other Minor Cleaning Tactics\n",
    "\n",
    "> Rename rows so that they are meaningful to you.\n",
    "\n",
    "> For years and months, try converting them to be more interpretable. For example, you can number months (1- Jan, 2- Feb,...) and you can subtract years by the earliest year in your dataset. For example, map (2006, 2009, 2004, 2010, 2014, 2014, 2004, 1998) to (8, 11, 6, 12, 16, 16, 6, 0) and the differences between the years will be more significant with respect to their magnitude, making the data more significant for your linear model. \n",
    "\n",
    "\n",
    "### Correlation\n",
    "\n",
    "In short, correlation is a value that represents how strongly a pair of variables correspond/relate (get it, correlate?). Correlation varies between -1 and 1.\n",
    "\n",
    "A correlation of 0 indicates no relation. \n",
    "\n",
    "A correlation that is positive and close to 1 indicates that the variables are closely and positively correlated.\n",
    "\n",
    "A correlation that is negative and close to -1 indicates that the variables are closely and negatively correlated.\n",
    "\n",
    "\n",
    "## Data Visualization\n",
    "\n",
    "The big goal of Visualization: To see overall patterns and detailed behavior.\n",
    "\n",
    "We used `Matplotlib` to create our visualizations. Matplotlib is one of the most used Python package for 2D-graphics. It provides both a very quick way to visualize data from Python and create publication-quality figures in many formats.\n",
    "\n",
    "Features of visualizations that we covered included: different kinds of plots, axis labels, tick marks, and subplots.\n",
    "\n",
    "`Seaborn` is an alternative package to `Matplotlib` that you might consider using.\n",
    "\n",
    "\n",
    "## Linear Regression\n",
    "\n",
    "Linear regression attempts to model the relationship between two variables by fitting a linear equation to a dataset. The most common technique of fitting a linear equation to data is the __method of least squares__.\n",
    "\n",
    "The term \"least squares\" refers to the notion that we are minimizing the squares of the residuals (distance between observed and fitted values on an x-y plane) so that our linear model has the least outliers or smallest squared outlier distance. Note that residuals can only be found if we identify which variable is independent and which is dependent, in which case we compare the linear model's estimated value of the dependent variable and the actual observed value of the dependent variable given the value of the independent variable.\n",
    "\n",
    "To evaluate our linear model, we try to minimize the root mean squared error loss of our model by comparing the residuals. In this case, linear regression is not going to be a very precise modeling technique so root mean squared error loss is very high.\n",
    "\n",
    "## Topics in Regression\n",
    "\n",
    "### Ridge Regression\n",
    "\n",
    "Ordinary Least Squares regression methods are only interested in minimising one thing, the Residual Sum of Squares, or $RSS$. This approach has many problems that come up in practical applications, such as being highly sensitive to multicolinearity (if multiple variables give the same info, the variance of your estimates skyrocket) and differences between your training data and your testing data (variance). \n",
    "\n",
    "Ridge Regression is a way of dealing with these issues by penalizing large regression coefficients. Large regression coefficients mean that the model \"believes\" in a strong relationship between the response variable and the explanatory variable. By penalizing large values of regression coefficients, we are telling the model to slow its roll, and to not put as much store in the training data as OLS does. \n",
    "\n",
    "Ridge regression minimises: \n",
    "$$RSS + \\sum_{i\\neq0}\\lambda\\hat{\\beta_{i}^2}$$\n",
    "\n",
    "Where $\\lambda$ is some constant. The optimal constant is not known, so it is chosen with cross-validation.\n",
    "\n",
    "#### Ridge Regression Workflow:\n",
    "\n",
    "1. Split your data into training and test sets\n",
    "2. `linear_model.Lasso()` and `model.fit()` for different values of alpha on your training set\n",
    "3. Get the R^2 of your model on the test set\n",
    "4. Choose the alpha that minimises this\n",
    "5. Use your model to make predictions\n",
    "\n",
    "#### Notes:\n",
    "\n",
    "Ridge Regression is not really a model selection criterion, for a subtle reason we will discuss in the question section. Do model selection first.\n",
    "\n",
    "OLS is a poor model when $p>n$ because there are multiple optimal hyperlines that minimise RSS, but Ridge Regression will give you a unique estimate!\n",
    "\n",
    "#### Questions:\n",
    "\n",
    "1. What is $\\lim_{\\lambda\\to\\infty}\\hat{\\beta}$ in Ridge Regression? Why is this true? Does this quantity ever actually reach 0?\n",
    "2. What is $\\hat{\\beta}$ in Ridge Regression when $\\lambda = 0$ in terms of the OLS estimate? Why is this true?\n",
    "\n",
    "### LASSO (least absolute shrinkage and selection operator)\n",
    "\n",
    "LASSO is very similar to Ridge Regression, and is used for much the same purposes. Instead of minimising \n",
    "\n",
    "$$RSS + \\sum_{i\\neq0}\\lambda\\hat{\\beta_{i}^2}$$\n",
    "\n",
    "LASSO minimises:\n",
    "\n",
    "$$RSS + \\sum_{i\\neq0}\\lambda|\\hat{\\beta_{i}|}$$\n",
    "\n",
    "LASSO therefore penalizes large values of beta coefficients as well, but with a major difference. As $\\lambda$ increases, beta coefficients of bad variables will disappear completely, making LASSO a viable variable selection process! This property makes LASSO almost universally preferable, especially in cases where $p>n$, as many useless explanatory variables tend to fall away automatically with the LASSO penalty.\n",
    "\n",
    "## Topics in Classification\n",
    "\n",
    "### k-nearest neighbors\n",
    "\n",
    "#### Implementation:\n",
    "\n",
    "1. Define a notion of distance\n",
    "2. For a given observation, take the k-nearest points to the observations from your training set and see which category a plurality of them fall into.\n",
    "3. Classify the observation as the same as that plurality\n",
    "\n",
    "The notion of distance you define is very important, and can drastically change the classifications that your algorithm gives. This is also true for the value of k.\n",
    "\n",
    "This is a very empirical method without many closed-form equations, so the choice of k and the choice of metric are often chosen via cross-validation. \n",
    "\n",
    "The justification for KNN relies on the assumption that points close to each other by a metric are classified the same way according to your chosen features. This may seem tautological, but there are many cases where this is not true. For example, classifying political affiliation by a KNN algorithm using income is misguided, as political parties tend to attract people from all over the income spectrum (empirically). So do a sanity check before you implement KNN to see if what you are doing makes sense.\n",
    "\n",
    "### Decision Trees\n",
    "\n",
    "#### Implementation:\n",
    "\n",
    "1. Calculate the Entropy of your data\n",
    "2. Draw Boundaries\n",
    "3. Calculate the Entropy of the data within the boundaries only\n",
    "4. Sum the Entropies of the bounded data together and compare with the Entropy of the entire set.\n",
    "5. Cross-validate using many choices of boundary and choose the one with the lowest sum of entropies.\n",
    "\n",
    "Often, to prevent overfitting, we limit the number of boundaries or splits the decision tree has. The more splits your tree has, the more bias that it contains, in general. \n",
    "\n",
    "### Bootstrapping\n",
    "\n",
    "Many statistical quantities have no closed form expression, or a very complex one that is difficult to work with (canonical example is the distribution of the median, which often has no formula). To estimate them, we can treat the sample as the population by sampling it with replacement to get new samples. From these samples, we can calculate the empirical value of the quantity of interest (The formula for the median of a distribution often doesn't exist, but actually calculating it from a sample is trivial). Then we get an empirical distribution of the quantity of interest.\n",
    "\n",
    "A rule of thumb is that Bootstrap estimates are often approximately unbiased when there are no outliers.\n",
    "\n",
    "#### Question:\n",
    "\n",
    "I am interested in the kurtosis of an unknown distribution, defined\n",
    "\n",
    "$$Kurt[X] = E[(\\frac{X-\\mu}{\\sigma})^4]$$\n",
    "\n",
    "I have a sample of size n from this distribution. How would I use Bootstrap to get an estimate for kurtosis?\n",
    "\n",
    "### Random Forest\n",
    "\n",
    "Bootstrapping is a general method. So general, in fact, that it can even be used to get a \"distribution\" of decision trees! If you bootstrap the data and get lots of datasets, you can fit a decision tree to each. Then, when you have a new observation, see how each of the decision trees classifies it, and return the most common result. \n",
    "\n",
    "This method is called Random Forest, because it entails making lots of trees.\n",
    "\n",
    "## Topics in Neural Networks, Briefly\n",
    "\n",
    "We talked about feedforward neural networks in the last lecture.\n",
    "\n",
    "Intuitively, a feedforward neural network can consist of three levels with corresponding neurons:\n",
    "1. Input Layer: The Input layer has is where $X_i$ from the previous example are inputted. The outputs from the Input layer are just the input $X_i$ and the bias. These are moved into the Hidden Layer.\n",
    "2. Hidden Layer – The Hidden layers contain neurons that move numbers from the input neurons to the output neurons. They take in the inputs from the input layer. In the running example with car classification, the hidden layers can be items such as \"number of seats\" or \"weight\". The hidden layers represent the different steps it takes to classify a vehicle. The number of neurons in the hidden layers are determined by the user. There can be as many hidden layers as necessary depending on the problem.\n",
    "3. Output Layer – The neurons in the output layer are the results that the NN returns.\n",
    "\n",
    "The final product will be the output of this model, which is a composition of the activation functions, their weights, plus some bias. The advantages that neural networks have over other models include the fact that that they can easily be made to be non-linear with the correct choice of activation function, and the fact that the weights can be modified with various methods (gradient descent, e.g.) to pursue a better model over time."
   ]
  },
  {
   "cell_type": "markdown",
   "metadata": {},
   "source": [
    "# Benchmarks for Various Techniques\n",
    "\n",
    "## Feature engineering"
   ]
  },
  {
   "cell_type": "code",
   "execution_count": 6,
   "metadata": {},
   "outputs": [
    {
     "name": "stdout",
     "output_type": "stream",
     "text": [
      "(1460, 79) (1459, 79) (2919, 79)\n"
     ]
    },
    {
     "data": {
      "text/html": [
       "<div>\n",
       "<style scoped>\n",
       "    .dataframe tbody tr th:only-of-type {\n",
       "        vertical-align: middle;\n",
       "    }\n",
       "\n",
       "    .dataframe tbody tr th {\n",
       "        vertical-align: top;\n",
       "    }\n",
       "\n",
       "    .dataframe thead th {\n",
       "        text-align: right;\n",
       "    }\n",
       "</style>\n",
       "<table border=\"1\" class=\"dataframe\">\n",
       "  <thead>\n",
       "    <tr style=\"text-align: right;\">\n",
       "      <th></th>\n",
       "      <th>MSSubClass</th>\n",
       "      <th>MSZoning</th>\n",
       "      <th>LotFrontage</th>\n",
       "      <th>LotArea</th>\n",
       "      <th>Street</th>\n",
       "      <th>Alley</th>\n",
       "      <th>LotShape</th>\n",
       "      <th>LandContour</th>\n",
       "      <th>Utilities</th>\n",
       "      <th>LotConfig</th>\n",
       "      <th>...</th>\n",
       "      <th>ScreenPorch</th>\n",
       "      <th>PoolArea</th>\n",
       "      <th>PoolQC</th>\n",
       "      <th>Fence</th>\n",
       "      <th>MiscFeature</th>\n",
       "      <th>MiscVal</th>\n",
       "      <th>MoSold</th>\n",
       "      <th>YrSold</th>\n",
       "      <th>SaleType</th>\n",
       "      <th>SaleCondition</th>\n",
       "    </tr>\n",
       "  </thead>\n",
       "  <tbody>\n",
       "    <tr>\n",
       "      <th>0</th>\n",
       "      <td>60</td>\n",
       "      <td>RL</td>\n",
       "      <td>65.0</td>\n",
       "      <td>8450</td>\n",
       "      <td>Pave</td>\n",
       "      <td>NaN</td>\n",
       "      <td>Reg</td>\n",
       "      <td>Lvl</td>\n",
       "      <td>AllPub</td>\n",
       "      <td>Inside</td>\n",
       "      <td>...</td>\n",
       "      <td>0</td>\n",
       "      <td>0</td>\n",
       "      <td>NaN</td>\n",
       "      <td>NaN</td>\n",
       "      <td>NaN</td>\n",
       "      <td>0</td>\n",
       "      <td>2</td>\n",
       "      <td>2008</td>\n",
       "      <td>WD</td>\n",
       "      <td>Normal</td>\n",
       "    </tr>\n",
       "    <tr>\n",
       "      <th>1</th>\n",
       "      <td>20</td>\n",
       "      <td>RL</td>\n",
       "      <td>80.0</td>\n",
       "      <td>9600</td>\n",
       "      <td>Pave</td>\n",
       "      <td>NaN</td>\n",
       "      <td>Reg</td>\n",
       "      <td>Lvl</td>\n",
       "      <td>AllPub</td>\n",
       "      <td>FR2</td>\n",
       "      <td>...</td>\n",
       "      <td>0</td>\n",
       "      <td>0</td>\n",
       "      <td>NaN</td>\n",
       "      <td>NaN</td>\n",
       "      <td>NaN</td>\n",
       "      <td>0</td>\n",
       "      <td>5</td>\n",
       "      <td>2007</td>\n",
       "      <td>WD</td>\n",
       "      <td>Normal</td>\n",
       "    </tr>\n",
       "    <tr>\n",
       "      <th>2</th>\n",
       "      <td>60</td>\n",
       "      <td>RL</td>\n",
       "      <td>68.0</td>\n",
       "      <td>11250</td>\n",
       "      <td>Pave</td>\n",
       "      <td>NaN</td>\n",
       "      <td>IR1</td>\n",
       "      <td>Lvl</td>\n",
       "      <td>AllPub</td>\n",
       "      <td>Inside</td>\n",
       "      <td>...</td>\n",
       "      <td>0</td>\n",
       "      <td>0</td>\n",
       "      <td>NaN</td>\n",
       "      <td>NaN</td>\n",
       "      <td>NaN</td>\n",
       "      <td>0</td>\n",
       "      <td>9</td>\n",
       "      <td>2008</td>\n",
       "      <td>WD</td>\n",
       "      <td>Normal</td>\n",
       "    </tr>\n",
       "    <tr>\n",
       "      <th>3</th>\n",
       "      <td>70</td>\n",
       "      <td>RL</td>\n",
       "      <td>60.0</td>\n",
       "      <td>9550</td>\n",
       "      <td>Pave</td>\n",
       "      <td>NaN</td>\n",
       "      <td>IR1</td>\n",
       "      <td>Lvl</td>\n",
       "      <td>AllPub</td>\n",
       "      <td>Corner</td>\n",
       "      <td>...</td>\n",
       "      <td>0</td>\n",
       "      <td>0</td>\n",
       "      <td>NaN</td>\n",
       "      <td>NaN</td>\n",
       "      <td>NaN</td>\n",
       "      <td>0</td>\n",
       "      <td>2</td>\n",
       "      <td>2006</td>\n",
       "      <td>WD</td>\n",
       "      <td>Abnorml</td>\n",
       "    </tr>\n",
       "    <tr>\n",
       "      <th>4</th>\n",
       "      <td>60</td>\n",
       "      <td>RL</td>\n",
       "      <td>84.0</td>\n",
       "      <td>14260</td>\n",
       "      <td>Pave</td>\n",
       "      <td>NaN</td>\n",
       "      <td>IR1</td>\n",
       "      <td>Lvl</td>\n",
       "      <td>AllPub</td>\n",
       "      <td>FR2</td>\n",
       "      <td>...</td>\n",
       "      <td>0</td>\n",
       "      <td>0</td>\n",
       "      <td>NaN</td>\n",
       "      <td>NaN</td>\n",
       "      <td>NaN</td>\n",
       "      <td>0</td>\n",
       "      <td>12</td>\n",
       "      <td>2008</td>\n",
       "      <td>WD</td>\n",
       "      <td>Normal</td>\n",
       "    </tr>\n",
       "  </tbody>\n",
       "</table>\n",
       "<p>5 rows × 79 columns</p>\n",
       "</div>"
      ],
      "text/plain": [
       "   MSSubClass MSZoning  LotFrontage  LotArea Street Alley LotShape  \\\n",
       "0          60       RL         65.0     8450   Pave   NaN      Reg   \n",
       "1          20       RL         80.0     9600   Pave   NaN      Reg   \n",
       "2          60       RL         68.0    11250   Pave   NaN      IR1   \n",
       "3          70       RL         60.0     9550   Pave   NaN      IR1   \n",
       "4          60       RL         84.0    14260   Pave   NaN      IR1   \n",
       "\n",
       "  LandContour Utilities LotConfig      ...       ScreenPorch PoolArea PoolQC  \\\n",
       "0         Lvl    AllPub    Inside      ...                 0        0    NaN   \n",
       "1         Lvl    AllPub       FR2      ...                 0        0    NaN   \n",
       "2         Lvl    AllPub    Inside      ...                 0        0    NaN   \n",
       "3         Lvl    AllPub    Corner      ...                 0        0    NaN   \n",
       "4         Lvl    AllPub       FR2      ...                 0        0    NaN   \n",
       "\n",
       "  Fence MiscFeature MiscVal  MoSold  YrSold  SaleType  SaleCondition  \n",
       "0   NaN         NaN       0       2    2008        WD         Normal  \n",
       "1   NaN         NaN       0       5    2007        WD         Normal  \n",
       "2   NaN         NaN       0       9    2008        WD         Normal  \n",
       "3   NaN         NaN       0       2    2006        WD        Abnorml  \n",
       "4   NaN         NaN       0      12    2008        WD         Normal  \n",
       "\n",
       "[5 rows x 79 columns]"
      ]
     },
     "execution_count": 6,
     "metadata": {},
     "output_type": "execute_result"
    }
   ],
   "source": [
    "trainData = pd.read_csv('./input/train.csv')\n",
    "y = np.array(trainData['SalePrice']) \n",
    "trainData.drop(['Id', 'SalePrice'], axis=1, inplace=True)\n",
    "testData = pd.read_csv('./input/test.csv')\n",
    "testData.drop(['Id'], axis=1, inplace=True)\n",
    "data = pd.concat([trainData, testData])\n",
    "print(trainData.shape, testData.shape, data.shape)\n",
    "data.head()"
   ]
  },
  {
   "cell_type": "code",
   "execution_count": 7,
   "metadata": {},
   "outputs": [
    {
     "data": {
      "text/plain": [
       "(2919, 79)"
      ]
     },
     "execution_count": 7,
     "metadata": {},
     "output_type": "execute_result"
    }
   ],
   "source": [
    "trainAndTest = pd.concat([trainData, testData])\n",
    "trainAndTest.shape"
   ]
  },
  {
   "cell_type": "markdown",
   "metadata": {},
   "source": [
    "Here, we can define a function to add variables to our dataframe. In general I think this is automated in either `numpy` or `pandas`, but I am unfamiliar with Python."
   ]
  },
  {
   "cell_type": "code",
   "execution_count": 8,
   "metadata": {},
   "outputs": [],
   "source": [
    "dfs = [trainData, trainAndTest]\n",
    "#A function for adding new variables\n",
    "def addNewFeature(featureName, featureValues):\n",
    "    for df in dfs:\n",
    "        if(len(df) == len(trainData)):\n",
    "            df[featureName] = featureValues[0:len(trainData)]\n",
    "        else:\n",
    "            df[featureName] = featureValues\n",
    "        df[featureName] = df[featureName].astype(int)"
   ]
  },
  {
   "cell_type": "markdown",
   "metadata": {},
   "source": [
    "Some possible features to add: "
   ]
  },
  {
   "cell_type": "code",
   "execution_count": 9,
   "metadata": {},
   "outputs": [],
   "source": [
    "#Remodeled after construction\n",
    "addNewFeature('RemodAC', np.logical_and(trainAndTest.YearRemodAdd - trainAndTest.YearBuilt, \n",
    "                                        trainAndTest.YearBuilt))"
   ]
  },
  {
   "cell_type": "code",
   "execution_count": 10,
   "metadata": {},
   "outputs": [],
   "source": [
    "#\"Age\"\n",
    "addNewFeature('Age', 2008 - trainAndTest.YearBuilt)"
   ]
  },
  {
   "cell_type": "code",
   "execution_count": 11,
   "metadata": {},
   "outputs": [],
   "source": [
    "#we don't need these features anymore\n",
    "trainAndTest = trainAndTest.drop(['YearRemodAdd',  'YearBuilt'], axis=1)"
   ]
  },
  {
   "cell_type": "markdown",
   "metadata": {},
   "source": [
    "## Data Preprocessing"
   ]
  },
  {
   "cell_type": "code",
   "execution_count": 12,
   "metadata": {},
   "outputs": [],
   "source": [
    "from scipy.stats import skew\n",
    "\n",
    "#log transform the target:\n",
    "y = np.log1p(y)\n",
    "\n",
    "#log transform skewed numeric features:\n",
    "numeric_feats = trainAndTest.dtypes[trainAndTest.dtypes != \"object\"].index\n",
    "\n",
    "skewed_feats = trainData[numeric_feats].apply(lambda x: skew(x.dropna())) #compute skewness\n",
    "skewed_feats = skewed_feats[skewed_feats > 0.75]\n",
    "skewed_feats = skewed_feats.index\n",
    "\n",
    "trainAndTest[skewed_feats] = np.log1p(trainAndTest[skewed_feats])"
   ]
  },
  {
   "cell_type": "markdown",
   "metadata": {},
   "source": [
    "Dealing with NaN values:"
   ]
  },
  {
   "cell_type": "code",
   "execution_count": 13,
   "metadata": {},
   "outputs": [
    {
     "name": "stdout",
     "output_type": "stream",
     "text": [
      "MSZoning NaNs:  4\n",
      "Alley NaNs:  2721\n",
      "Utilities NaNs:  2\n",
      "Exterior1st NaNs:  1\n",
      "Exterior2nd NaNs:  1\n",
      "MasVnrType NaNs:  24\n",
      "BsmtQual NaNs:  81\n",
      "BsmtCond NaNs:  82\n",
      "BsmtExposure NaNs:  82\n",
      "BsmtFinType1 NaNs:  79\n",
      "BsmtFinType2 NaNs:  80\n",
      "Electrical NaNs:  1\n",
      "KitchenQual NaNs:  1\n",
      "Functional NaNs:  2\n",
      "FireplaceQu NaNs:  1420\n",
      "GarageType NaNs:  157\n",
      "GarageFinish NaNs:  159\n",
      "GarageQual NaNs:  159\n",
      "GarageCond NaNs:  159\n",
      "PoolQC NaNs:  2909\n",
      "Fence NaNs:  2348\n",
      "MiscFeature NaNs:  2814\n",
      "SaleType NaNs:  1\n",
      "Columns with NaNs:  23\n"
     ]
    }
   ],
   "source": [
    "catFswithNaNs = []\n",
    "for clmn in trainAndTest.loc[:, trainAndTest.dtypes == object]:\n",
    "    nans =  trainAndTest[clmn].isnull().sum().sum()\n",
    "    if(nans != 0):\n",
    "        catFswithNaNs.append(clmn)\n",
    "        print(clmn + ' NaNs: ', trainAndTest[clmn].isnull().sum().sum())\n",
    "\n",
    "print('Columns with NaNs: ', len(catFswithNaNs))"
   ]
  },
  {
   "cell_type": "code",
   "execution_count": 14,
   "metadata": {},
   "outputs": [],
   "source": [
    "catFsWithNaNCategory = ['Alley', 'MasVnrType', 'BsmtQual', 'BsmtCond', 'BsmtExposure', 'BsmtFinType1', \n",
    "                        'BsmtFinType2', 'FireplaceQu', 'GarageType', 'GarageFinish', 'GarageQual', 'GarageCond', \n",
    "                        'PoolQC', 'Fence', 'MiscFeature']\n",
    "for clmn in catFsWithNaNCategory:\n",
    "    trainAndTest.loc[trainAndTest[clmn].isnull(), clmn] = 'No' + clmn"
   ]
  },
  {
   "cell_type": "code",
   "execution_count": 15,
   "metadata": {},
   "outputs": [],
   "source": [
    "#For categorical data, replace with most common value\n",
    "catFswithNaNs = [clmn for clmn in catFswithNaNs if clmn not in catFsWithNaNCategory]\n",
    "for clmn in catFswithNaNs:\n",
    "    mcvOfClmn = trainAndTest[clmn].value_counts().idxmax()\n",
    "    trainAndTest.loc[trainAndTest[clmn].isnull(), clmn] = mcvOfClmn"
   ]
  },
  {
   "cell_type": "code",
   "execution_count": 16,
   "metadata": {},
   "outputs": [],
   "source": [
    "trainAndTest = pd.get_dummies(trainAndTest)"
   ]
  },
  {
   "cell_type": "code",
   "execution_count": 17,
   "metadata": {},
   "outputs": [],
   "source": [
    "a = trainAndTest.loc[np.logical_not(trainAndTest[\"LotFrontage\"].isnull()), \"LotArea\"]\n",
    "b = trainAndTest.loc[np.logical_not(trainAndTest[\"LotFrontage\"].isnull()), \"LotFrontage\"]\n",
    "# plt.scatter(x, y)\n",
    "t = (a <= 25000) & (b <= 150)\n",
    "p = np.polyfit(a[t], b[t], 1)\n",
    "trainAndTest.loc[trainAndTest['LotFrontage'].isnull(), 'LotFrontage'] = np.polyval(p,\n",
    "                                    trainAndTest.loc[trainAndTest['LotFrontage'].isnull(), 'LotArea'])"
   ]
  },
  {
   "cell_type": "code",
   "execution_count": 18,
   "metadata": {},
   "outputs": [
    {
     "name": "stderr",
     "output_type": "stream",
     "text": [
      "/Library/Frameworks/Python.framework/Versions/3.6/lib/python3.6/site-packages/sklearn/utils/deprecation.py:58: DeprecationWarning: Class Imputer is deprecated; Imputer was deprecated in version 0.20 and will be removed in 0.22. Import impute.SimpleImputer from sklearn instead.\n",
      "  warnings.warn(msg, category=DeprecationWarning)\n"
     ]
    }
   ],
   "source": [
    "# trainAndTest = trainAndTest.fillna(trainAndTest.mean())\n",
    "# Filling in missing values with column means\n",
    "\n",
    "from sklearn.preprocessing import Imputer\n",
    "\n",
    "toImpute = list(trainAndTest.columns)\n",
    "\n",
    "imp = Imputer(missing_values = 'NaN', strategy='mean', axis=0)\n",
    "tmp = imp.fit_transform(trainAndTest[toImpute])\n",
    "\n",
    "i = 0\n",
    "for clmn in toImpute:\n",
    "    trainAndTest[clmn] = tmp[:, i]\n",
    "    i+=1"
   ]
  },
  {
   "cell_type": "code",
   "execution_count": 19,
   "metadata": {},
   "outputs": [],
   "source": [
    "#Final touches before applying estimators\n",
    "X = trainAndTest[:trainData.shape[0]]\n",
    "X_test = trainAndTest[trainData.shape[0]:]"
   ]
  },
  {
   "cell_type": "markdown",
   "metadata": {},
   "source": [
    "## Ridge Regression"
   ]
  },
  {
   "cell_type": "code",
   "execution_count": 20,
   "metadata": {},
   "outputs": [],
   "source": [
    "from sklearn.linear_model import Ridge, Lasso\n",
    "from sklearn.model_selection import cross_val_score\n",
    "\n",
    "def rmse_cv(model):\n",
    "    rmse= np.sqrt(-cross_val_score(model, X, y, scoring=\"neg_mean_squared_error\", cv = 20))\n",
    "    return(rmse)"
   ]
  },
  {
   "cell_type": "code",
   "execution_count": 21,
   "metadata": {},
   "outputs": [],
   "source": [
    "model_ridge = Ridge()\n",
    "def ridge_model_evaluation(alphas):\n",
    "    cv_ridge = [rmse_cv(Ridge(alpha = alpha)).mean() for alpha in alphas]\n",
    "    cv_ridge = pd.Series(cv_ridge, index = alphas)\n",
    "    cv_ridge.plot(title = \"Ridge\")\n",
    "    plt.xlabel(\"alpha\")\n",
    "    plt.ylabel(\"rmse\")\n",
    "    plt.show()"
   ]
  },
  {
   "cell_type": "code",
   "execution_count": 22,
   "metadata": {},
   "outputs": [
    {
     "data": {
      "image/png": "[encoded data removed]",
      "text/plain": [
       "<Figure size 432x288 with 1 Axes>"
      ]
     },
     "metadata": {
      "needs_background": "light"
     },
     "output_type": "display_data"
    }
   ],
   "source": [
    "alphas = list(np.linspace(7.4, 7.8, 10))\n",
    "ridge_model_evaluation(alphas)"
   ]
  },
  {
   "cell_type": "code",
   "execution_count": 23,
   "metadata": {},
   "outputs": [
    {
     "name": "stdout",
     "output_type": "stream",
     "text": [
      "CV-20:  0.12565891962811318\n"
     ]
    }
   ],
   "source": [
    "model_ridge = Ridge(alpha=7.65)\n",
    "model_ridge.fit(X, y)\n",
    "print('CV-20: ', np.mean(rmse_cv(model_ridge)))"
   ]
  },
  {
   "cell_type": "markdown",
   "metadata": {},
   "source": [
    "# LASSO Regression"
   ]
  },
  {
   "cell_type": "code",
   "execution_count": 25,
   "metadata": {},
   "outputs": [],
   "source": [
    "model_lasso = Lasso()\n",
    "def lasso_model_evaluation(alphas):\n",
    "    cv_ridge = [rmse_cv(Lasso(alpha = alpha)).mean() for alpha in alphas]\n",
    "    cv_ridge = pd.Series(cv_ridge, index = alphas)\n",
    "    cv_ridge.plot(title = \"Lasso\")\n",
    "    plt.xlabel(\"alpha\")\n",
    "    plt.ylabel(\"rmse\")\n",
    "    plt.show()"
   ]
  },
  {
   "cell_type": "code",
   "execution_count": 26,
   "metadata": {},
   "outputs": [
    {
     "data": {
      "image/png": "[encoded data removed]",
      "text/plain": [
       "<Figure size 432x288 with 1 Axes>"
      ]
     },
     "metadata": {},
     "output_type": "display_data"
    }
   ],
   "source": [
    "alphas = list(np.arange(0.0001, 0.001, 0.0001))\n",
    "lasso_model_evaluation(alphas)"
   ]
  },
  {
   "cell_type": "code",
   "execution_count": 27,
   "metadata": {},
   "outputs": [
    {
     "name": "stdout",
     "output_type": "stream",
     "text": [
      "CV-20:  0.12137816022827772\n"
     ]
    }
   ],
   "source": [
    "model_lasso = Lasso(alpha=0.0004)\n",
    "model_lasso.fit(X, y)\n",
    "print('CV-20: ', np.mean(rmse_cv(model_lasso)))"
   ]
  },
  {
   "cell_type": "markdown",
   "metadata": {},
   "source": [
    "## Decision Trees"
   ]
  },
  {
   "cell_type": "code",
   "execution_count": 28,
   "metadata": {},
   "outputs": [],
   "source": [
    "from sklearn.tree import DecisionTreeRegressor\n",
    "\n",
    "model_tree = DecisionTreeRegressor()\n",
    "\n",
    "def DTR_model_evaluation(max_depths):\n",
    "    cv_ridge = [rmse_cv(DecisionTreeRegressor(max_depth = md)).mean() for md in max_depths]\n",
    "    cv_ridge = pd.Series(cv_ridge, index = max_depths)\n",
    "    cv_ridge.plot(title = \"DecisionTreeRegressor\")\n",
    "    plt.xlabel(\"max_depth\")\n",
    "    plt.ylabel(\"rmse\")\n",
    "    plt.show()"
   ]
  },
  {
   "cell_type": "code",
   "execution_count": 29,
   "metadata": {},
   "outputs": [
    {
     "data": {
      "image/png": "[encoded data removed]",
      "text/plain": [
       "<Figure size 432x288 with 1 Axes>"
      ]
     },
     "metadata": {},
     "output_type": "display_data"
    }
   ],
   "source": [
    "max_depths = list(np.arange(1, 11, 1))\n",
    "DTR_model_evaluation(max_depths)"
   ]
  },
  {
   "cell_type": "code",
   "execution_count": 29,
   "metadata": {},
   "outputs": [
    {
     "name": "stdout",
     "output_type": "stream",
     "text": [
      "CV-20:  0.18785825275839854\n"
     ]
    }
   ],
   "source": [
    "model_tree = DecisionTreeRegressor(max_depth=7)\n",
    "model_tree.fit(X, y)\n",
    "print('CV-20: ', np.mean(rmse_cv(model_tree)))"
   ]
  },
  {
   "cell_type": "markdown",
   "metadata": {},
   "source": [
    "## Random Forest\n",
    "\n",
    "Note: This will take eons to run, the CV score is 0.14ish"
   ]
  },
  {
   "cell_type": "code",
   "execution_count": 37,
   "metadata": {},
   "outputs": [
    {
     "name": "stderr",
     "output_type": "stream",
     "text": [
      "C:\\ProgramData\\Anaconda3\\lib\\site-packages\\sklearn\\ensemble\\weight_boosting.py:29: DeprecationWarning: numpy.core.umath_tests is an internal NumPy module and should not be imported. It will be removed in a future NumPy release.\n",
      "  from numpy.core.umath_tests import inner1d\n"
     ]
    }
   ],
   "source": [
    "from sklearn.ensemble import RandomForestRegressor\n",
    "\n",
    "model_forest = RandomForestRegressor()\n",
    "\n",
    "def RFR_model_evaluation(estimatorsL):\n",
    "    cv_ridge = [rmse_cv(RandomForestRegressor(n_estimators = estimators, n_jobs=-1)).mean() for estimators in estimatorsL]\n",
    "    cv_ridge = pd.Series(cv_ridge, index = estimatorsL)\n",
    "    cv_ridge.plot(title = \"RandomForestRegressor\")\n",
    "    plt.xlabel(\"n_estimator\")\n",
    "    plt.ylabel(\"rmse\")\n",
    "    plt.show()"
   ]
  },
  {
   "cell_type": "code",
   "execution_count": 38,
   "metadata": {},
   "outputs": [
    {
     "data": {
      "image/png": "[encoded data removed]",
      "text/plain": [
       "<Figure size 432x288 with 1 Axes>"
      ]
     },
     "metadata": {},
     "output_type": "display_data"
    }
   ],
   "source": [
    "estimatorsL = list(np.arange(10, 90, 20))\n",
    "RFR_model_evaluation(estimatorsL)"
   ]
  },
  {
   "cell_type": "code",
   "execution_count": 39,
   "metadata": {
    "scrolled": true
   },
   "outputs": [
    {
     "name": "stdout",
     "output_type": "stream",
     "text": [
      "CV-20:  0.1407577425423835\n"
     ]
    }
   ],
   "source": [
    "model_forest = RandomForestRegressor(n_estimators=70, n_jobs=-1)\n",
    "model_forest.fit(X, y)\n",
    "print('CV-20: ', np.mean(rmse_cv(model_forest)))"
   ]
  },
  {
   "cell_type": "markdown",
   "metadata": {},
   "source": [
    "## KNN"
   ]
  },
  {
   "cell_type": "code",
   "execution_count": 35,
   "metadata": {},
   "outputs": [
    {
     "data": {
      "image/png": "[encoded data removed]",
      "text/plain": [
       "<Figure size 432x288 with 1 Axes>"
      ]
     },
     "metadata": {},
     "output_type": "display_data"
    }
   ],
   "source": [
    "from sklearn import neighbors\n",
    "\n",
    "model_knn = neighbors.KNeighborsRegressor()\n",
    "\n",
    "def KNN_model_evaluation(n_neighbors):\n",
    "    cv_knn = [rmse_cv(neighbors.KNeighborsRegressor(n_neighbors = md)).mean() for md in n_neighbors]\n",
    "    cv_knn = pd.Series(cv_knn, index = n_neighbors)\n",
    "    cv_knn.plot(title = \"KNN\")\n",
    "    plt.xlabel(\"n_neighbors\")\n",
    "    plt.ylabel(\"rmse\")\n",
    "    plt.show()\n",
    "    \n",
    "n_neighbors = list(np.arange(1, 11, 1))\n",
    "KNN_model_evaluation(n_neighbors)"
   ]
  },
  {
   "cell_type": "code",
   "execution_count": 34,
   "metadata": {},
   "outputs": [
    {
     "name": "stdout",
     "output_type": "stream",
     "text": [
      "CV-20:  0.2508752525674735\n"
     ]
    }
   ],
   "source": [
    "model_knn = neighbors.KNeighborsRegressor(n_neighbors = 5)\n",
    "model_knn.fit(X, y)\n",
    "print('CV-20: ', np.mean(rmse_cv(model_knn)))"
   ]
  },
  {
   "cell_type": "markdown",
   "metadata": {},
   "source": [
    "KNN. Very suspicious. Far and away the worst performing model of the bunch. Maybe some of you made it work?"
   ]
  },
  {
   "cell_type": "markdown",
   "metadata": {},
   "source": [
    "## Works Cited\n",
    "\n",
    "https://www.kaggle.com/sherafgan/lin-r-methods-decision-tree-random-forest-0-121\n",
    "\n",
    "https://www.analyticsvidhya.com/blog/2018/08/k-nearest-neighbor-introduction-regression-python/"
   ]
  },
  {
   "cell_type": "markdown",
   "metadata": {},
   "source": [
    "## Neural Network\n",
    "\n",
    "https://www.kaggle.com/diegosiebra/neural-network-model-for-house-prices-keras"
   ]
  },
  {
   "cell_type": "markdown",
   "metadata": {},
   "source": [
    "# Your Turn!\n",
    "\n",
    "We are all excited to see what you've done for the Kaggle competition! We would like to go around the room and ask each group what methods you used for the challenge, what challenges you faced, and how well you ultimately did. Please participate, because the groups with the best performing solution will get a prize!\n",
    "\n",
    "Come up to the podium, plug in your computer, and explain your model on screen."
   ]
  },
  {
   "cell_type": "markdown",
   "metadata": {},
   "source": [
    "# Techniques from the Leaderboards\n",
    "## Example 1\n",
    "### Transform\n",
    "\n",
    "This participant states the key point is to to log_transform the numeric variables since most of them are skewed. He does this by taking log(feature + 1), making the features more normal. The reason he gives for this transformation is that most of the machine learning algorithms work better if the features have a normal distribution (https://stats.stackexchange.com/questions/18844/when-and-why-should-you-take-the-log-of-a-distribution-of-numbers). \n",
    "\n",
    "Read more about their strategy here! https://www.kaggle.com/apapiu/regularized-linear-models"
   ]
  },
  {
   "cell_type": "markdown",
   "metadata": {},
   "source": [
    "## Example 2: 0.10943\n",
    "### Manual adjustment\n",
    "\n",
    "One participant explains how he used brute force to land on the leaderboards. He knew that regression would often fail in edge cases where the predictors were very small or very large. He took final predictions for log of sales and plotted them against logs of real values as you can see below."
   ]
  },
  {
   "cell_type": "markdown",
   "metadata": {},
   "source": [
    "<img src=\"files/logplot.png\">\n",
    "Source: https://www.kaggle.com/agehsbarg/top-10-0-10943-stacking-mice-and-brutal-force"
   ]
  },
  {
   "cell_type": "markdown",
   "metadata": {},
   "source": [
    "This plot confirmed what he expected about the edge cases, as sales were overestimated for small final predictions and sales were underestimated for large values of final predictions. To combat this, he used brute force by taking the top and bottom percentiles of the predicted sales and manually increased or decreased the forecasts. Essentially, he manually adjusted at the extremes. This allowed him to move onto the leaderboard with a score of 0.10943. \n",
    "\n",
    "If you want to read more in depth about what they did, you can check out their notebook here: https://www.kaggle.com/agehsbarg/top-10-0-10943-stacking-mice-and-brutal-force."
   ]
  },
  {
   "cell_type": "markdown",
   "metadata": {},
   "source": [
    "## Example 3: 0.11421\n",
    "### Numerical to Categorical\n",
    "\n",
    "After cleaning his data, this participant converted some numerical features into categorical features and recommended using LabelEncoder and get_dummies for these features. "
   ]
  },
  {
   "cell_type": "markdown",
   "metadata": {},
   "source": [
    "<img src=\"files/categorical.png\">\n",
    "Source: https://www.kaggle.com/massquantity/all-you-need-is-pca-lb-0-11421-top-4"
   ]
  },
  {
   "cell_type": "markdown",
   "metadata": {},
   "source": [
    "### Mistake\n",
    "\n",
    "One mistake that was caught by another member is that this participant replaced the missing values with substituted data using the full dataset that he created when joining the test and train dataset. This is an issue because now this takes the observations of both the training and test into account. This violates the separation of one's test and training data by incorporating total dataset information.\n",
    "\n"
   ]
  },
  {
   "cell_type": "markdown",
   "metadata": {},
   "source": [
    "For example, take a look at this snippet of code:\n",
    "\n",
    "<img src=\"files/mistake.png\">\n",
    "Source: https://www.kaggle.com/massquantity/all-you-need-is-pca-lb-0-11421-top-4\n",
    "\n",
    "This code is meant to fill in the selected columns with the mode of them. However, one can see that this participant ended up using the full dataset and so they are taking the mode of the values in both the training and test dataset. \n",
    "\n",
    "This is a very typical mistake and one should be careful not to do the same!\n",
    "\n",
    "If you want more details on their process, read through their notebook here: https://www.kaggle.com/massquantity/all-you-need-is-pca-lb-0-11421-top-4"
   ]
  },
  {
   "cell_type": "markdown",
   "metadata": {},
   "source": [
    "# Further Reading, Topics\n",
    "\n",
    "* General model selection techniques: [AIC](https://www.google.com/url?sa=t&rct=j&q=&esrc=s&source=web&cd=16&ved=2ahUKEwj05MGkqO_eAhW-JTQIHQl1Cg0QFjAPegQIDBAC&url=http%3A%2F%2Fstatweb.stanford.edu%2F~jtaylo%2Fcourses%2Fstats203%2Fnotes%2Fselection.pdf&usg=AOvVaw3s66HL1yMIZRvy1A5kMW7y), AICc, and BIC\n",
    "* [Logit and Probit models](https://www.google.com/url?sa=t&rct=j&q=&esrc=s&source=web&cd=13&ved=2ahUKEwih9-TjqO_eAhUoHzQIHTJdAwwQFjAMegQICRAC&url=http%3A%2F%2Fwww.columbia.edu%2F~so33%2FSusDev%2FLecture_9.pdf&usg=AOvVaw1IYCAt3W7q8RxZ29oyaYFZ) for categorical linear regression\n",
    "* [Time Series Models and Analysis](https://otexts.org/fpp2/arima.html)\n",
    "* [Principal Component Analysis](https://towardsdatascience.com/a-one-stop-shop-for-principal-component-analysis-5582fb7e0a9c)\n",
    "* [XGBoost](https://machinelearningmastery.com/gentle-introduction-xgboost-applied-machine-learning/)"
   ]
  },
  {
   "cell_type": "markdown",
   "metadata": {},
   "source": [
    "# That's all folks! \n",
    "\n",
    "We've reached the end of a long semester. Getting to know you all and to introduce you to the world of statistical computing has been as much of a journey for us as it has undoubtedly been for many of you. We hope that your participation in SUSA has given you the tools to begin to pursue your goals in statistics and beyond. We can't imagine the things that you'll go on to achieve, but it's our hope that you will continue to pursue those things in SUSA next semester. \n",
    "\n",
    "Sincerely,\n",
    "\n",
    "Your Friends at the Education Committee <3"
   ]
  },
  {
   "cell_type": "code",
   "execution_count": null,
   "metadata": {},
   "outputs": [],
   "source": []
  }
 ],
 "metadata": {
  "kernelspec": {
   "display_name": "Python 3",
   "language": "python",
   "name": "python3"
  },
  "language_info": {
   "codemirror_mode": {
    "name": "ipython",
    "version": 3
   },
   "file_extension": ".py",
   "mimetype": "text/x-python",
   "name": "python",
   "nbconvert_exporter": "python",
   "pygments_lexer": "ipython3",
   "version": "3.6.2"
  }
 },
 "nbformat": 4,
 "nbformat_minor": 2
}

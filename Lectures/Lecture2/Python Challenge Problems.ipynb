{
 "cells": [
  {
   "cell_type": "markdown",
   "metadata": {},
   "source": [
    "# Challenge Problems"
   ]
  },
  {
   "cell_type": "markdown",
   "metadata": {},
   "source": [
    "## Q1: Worst Walk on Campus"
   ]
  },
  {
   "cell_type": "markdown",
   "metadata": {},
   "source": [
    "**Note: this is for people who already know the Python basics.**\n",
    "\n",
    "Some \"refresher\" documentation:\n",
    "- https://docs.python.org/3/tutorial/datastructures.html#list-comprehensions\n",
    "- https://docs.python.org/2/library/itertools.html#itertools.combinations\n",
    "- https://docs.python.org/2/library/functions.html"
   ]
  },
  {
   "cell_type": "code",
   "execution_count": 1,
   "metadata": {
    "collapsed": true
   },
   "outputs": [],
   "source": [
    "from geopy.geocoders import Nominatim"
   ]
  },
  {
   "cell_type": "code",
   "execution_count": 2,
   "metadata": {
    "collapsed": true
   },
   "outputs": [],
   "source": [
    "geolocator = Nominatim()"
   ]
  },
  {
   "cell_type": "code",
   "execution_count": 3,
   "metadata": {
    "collapsed": true
   },
   "outputs": [],
   "source": [
    "building_names = []\n",
    "with open('buildings.txt', 'r') as f:\n",
    "    for line in f.readlines():\n",
    "        building_names.append(line.strip())"
   ]
  },
  {
   "cell_type": "code",
   "execution_count": 5,
   "metadata": {},
   "outputs": [
    {
     "name": "stdout",
     "output_type": "stream",
     "text": [
      "Halls scanned: 65/65\r"
     ]
    }
   ],
   "source": [
    "names_and_coordinates = {}\n",
    "for i, building_name in enumerate(building_names):\n",
    "    location = geolocator.geocode(building_name)\n",
    "    if location and 'Berkeley' in location.address:\n",
    "        names_and_coordinates[building_name] = (location.latitude, location.longitude)\n",
    "    print('Halls scanned: {0}/{1}'.format(i + 1, len(building_names)), end='\\r')"
   ]
  },
  {
   "cell_type": "code",
   "execution_count": 7,
   "metadata": {
    "collapsed": true
   },
   "outputs": [],
   "source": [
    "from itertools import combinations"
   ]
  },
  {
   "cell_type": "code",
   "execution_count": 21,
   "metadata": {
    "collapsed": true
   },
   "outputs": [],
   "source": [
    "from math import sin, cos, sqrt, atan2, radians\n",
    "def haversine(lat1, lon1, lat2, lon2):\n",
    "    \"\"\"Calculates the straight line distance between two latitude-longitude coordinates\"\"\"\n",
    "    # approximate radius of earth in miles\n",
    "    R = 3959.0\n",
    "\n",
    "    lat1_r = radians(lat1)\n",
    "    lon1_r = radians(lon1)\n",
    "    lat2_r = radians(lat2)\n",
    "    lon2_r = radians(lon2)\n",
    "\n",
    "    dlon = lon2_r - lon1_r\n",
    "    dlat = lat2_r - lat1_r\n",
    "\n",
    "    a = sin(dlat / 2)**2 + cos(lat1_r) * cos(lat2_r) * sin(dlon / 2)**2\n",
    "    c = 2 * atan2(sqrt(a), sqrt(1 - a))\n",
    "\n",
    "    return R * c"
   ]
  },
  {
   "cell_type": "markdown",
   "metadata": {},
   "source": [
    "You are trying to create the most evil schedule on campus, which contains back-to-back classes in buildings that are the furthest apart on campus. You are given the buildings and coordinates of those locations in a dictionary that can be queried as follows:"
   ]
  },
  {
   "cell_type": "code",
   "execution_count": 23,
   "metadata": {},
   "outputs": [
    {
     "data": {
      "text/plain": [
       "((37.8756741, -122.258724), (37.8750816, -122.257557811467))"
      ]
     },
     "execution_count": 23,
     "metadata": {},
     "output_type": "execute_result"
    }
   ],
   "source": [
    "names_and_coordinates['Soda Hall'], names_and_coordinates['Cory Hall']"
   ]
  },
  {
   "cell_type": "markdown",
   "metadata": {},
   "source": [
    "Write a function that returns a tuple of the furthest two buildings on campus, and the distance in miles between the two."
   ]
  },
  {
   "cell_type": "code",
   "execution_count": 16,
   "metadata": {
    "collapsed": true
   },
   "outputs": [],
   "source": [
    "# Solution\n",
    "def furthest_walk_on_campus(names_and_coordinates):\n",
    "    def key_fn(entry):\n",
    "        (bname1, (lat1, lon1)), (bname2, (lat2, lon2)) = entry\n",
    "        return haversine(lat1, lon1, lat2, lon2)\n",
    "    (bname1, (lat1, lon1)), (bname2, (lat2, lon2)) = max(\n",
    "        combinations(\n",
    "            names_and_coordinates.items(),\n",
    "            2\n",
    "        ),\n",
    "        key=key_fn\n",
    "    )\n",
    "    return bname1, bname2, haversine(lat1, lon1, lat2, lon2)"
   ]
  },
  {
   "cell_type": "code",
   "execution_count": 20,
   "metadata": {
    "scrolled": true
   },
   "outputs": [
    {
     "name": "stdout",
     "output_type": "stream",
     "text": [
      "The furthest walk on campus is Koshland Hall to Simon Hall, which is 0.7209184926896222 miles\n"
     ]
    }
   ],
   "source": [
    "print('The furthest walk on campus is {0} to {1}, which is {2} miles'.format(*furthest_walk_on_campus(names_and_coordinates)))"
   ]
  },
  {
   "cell_type": "markdown",
   "metadata": {},
   "source": [
    "**Extension**: Distance isn't always the best measure of the worst walk. Use Google Maps Matrix API (https://developers.google.com/maps/documentation/distance-matrix/intro)'s time to destination function to rank the walks instead."
   ]
  },
  {
   "cell_type": "markdown",
   "metadata": {},
   "source": [
    "## Q2: Solving Sudoku"
   ]
  },
  {
   "cell_type": "markdown",
   "metadata": {},
   "source": [
    "http://lipas.uwasa.fi/~timan/sudoku/"
   ]
  },
  {
   "cell_type": "code",
   "execution_count": 35,
   "metadata": {},
   "outputs": [],
   "source": [
    "def read_board(filename):\n",
    "    with open(filename, 'r') as f:\n",
    "        lines = f.readlines()\n",
    "        board = []\n",
    "        for line in lines:\n",
    "            board.append(line.split(' ')[:-1])\n",
    "    return board[:-1]"
   ]
  },
  {
   "cell_type": "code",
   "execution_count": null,
   "metadata": {
    "collapsed": true
   },
   "outputs": [],
   "source": [
    "def check_solution(board):\n",
    "    \"\"\"Checks that the board has a valid solution based on Sudoku rules.\"\"\"\n",
    "    "
   ]
  },
  {
   "cell_type": "code",
   "execution_count": 27,
   "metadata": {
    "collapsed": true
   },
   "outputs": [],
   "source": [
    "def get_first_empty_cell(board):\n",
    "    \"\"\"Gets the first empty cell on the board, left to right, up to down\"\"\"\n",
    "    for i, row in enumerate(board):\n",
    "        for j, col in enumerate(row):\n",
    "            if board[i][j] == '0':\n",
    "                return i, j\n",
    "    # if none available, return -1, -1\n",
    "    return -1, -1"
   ]
  },
  {
   "cell_type": "code",
   "execution_count": 28,
   "metadata": {
    "collapsed": true
   },
   "outputs": [],
   "source": [
    "def is_placement_valid(board, i, j, val):\n",
    "    \"\"\"Checks if placing <val> at position (i, j) on the board is valid\"\"\"\n",
    "    row_count = sum(1 for k in range(9) if board[k][j] == val)\n",
    "    col_count = sum(1 for l in range(9) if board[i][l] == val)\n",
    "    if row_count + col_count > 0:\n",
    "        return False\n",
    "    box_start_i, box_start_j = i - (i % 3), j - (j % 3)\n",
    "    box_count = 0\n",
    "    for i in range(3):\n",
    "        for j in range(3):\n",
    "            if board[box_start_i + i][box_start_j + j] == val:\n",
    "                box_count += 1\n",
    "    return box_count == 0"
   ]
  },
  {
   "cell_type": "code",
   "execution_count": 32,
   "metadata": {
    "collapsed": true
   },
   "outputs": [],
   "source": [
    "def solve(board):\n",
    "    \"\"\"Solves a Sudoku board: here are the steps:\n",
    "    \n",
    "        1. Find an empty cell\n",
    "        2. Find a value to place in that empty cell, if none exist, return False\n",
    "        3. Place the value in the empty cell\n",
    "        4. Recursively call solve(board):\n",
    "            a. If a solution is found, return it\n",
    "            b. If no solution is found, return False\n",
    "    \"\"\"\n",
    "    i, j = get_first_empty_cell(board)\n",
    "    if i == -1:\n",
    "        return True\n",
    "    for p in range(1, 10):\n",
    "        if is_placement_valid(board, i, j, str(p)):\n",
    "            board[i][j] = str(p)\n",
    "            if solve(board):\n",
    "                return board\n",
    "            board[i][j] = '0'\n",
    "    return False"
   ]
  },
  {
   "cell_type": "code",
   "execution_count": 34,
   "metadata": {},
   "outputs": [
    {
     "data": {
      "text/plain": [
       "[['2', '9', '4', '8', '6', '3', '5', '1', '7'],\n",
       " ['7', '1', '5', '4', '2', '9', '6', '3', '8'],\n",
       " ['8', '6', '3', '7', '5', '1', '4', '9', '2'],\n",
       " ['1', '5', '2', '9', '4', '7', '8', '6', '3'],\n",
       " ['4', '7', '9', '3', '8', '6', '2', '5', '1'],\n",
       " ['6', '3', '8', '5', '1', '2', '9', '7', '4'],\n",
       " ['9', '8', '6', '1', '3', '4', '7', '2', '5'],\n",
       " ['5', '2', '1', '6', '7', '8', '3', '4', '9'],\n",
       " ['3', '4', '7', '2', '9', '5', '1', '8', '6']]"
      ]
     },
     "execution_count": 34,
     "metadata": {},
     "output_type": "execute_result"
    }
   ],
   "source": [
    "solve(read_board('sudoku-puzzles/puzzle1.txt'))"
   ]
  },
  {
   "cell_type": "code",
   "execution_count": null,
   "metadata": {
    "collapsed": true
   },
   "outputs": [],
   "source": []
  }
 ],
 "metadata": {
  "kernelspec": {
   "display_name": "Python (deeplearning)",
   "language": "python",
   "name": "deeplearning"
  },
  "language_info": {
   "codemirror_mode": {
    "name": "ipython",
    "version": 3
   },
   "file_extension": ".py",
   "mimetype": "text/x-python",
   "name": "python",
   "nbconvert_exporter": "python",
   "pygments_lexer": "ipython3",
   "version": "3.6.3"
  }
 },
 "nbformat": 4,
 "nbformat_minor": 2
}

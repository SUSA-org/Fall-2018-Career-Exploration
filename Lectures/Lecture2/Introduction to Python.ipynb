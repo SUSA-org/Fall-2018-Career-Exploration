{
 "cells": [
  {
   "cell_type": "markdown",
   "metadata": {},
   "source": [
    "# Python\n",
    "\n",
    "Ajay Raj (araj@berkeley.edu)\n",
    "\n",
    "Calvin Chen (chencalvin99@berkeley.edu)"
   ]
  },
  {
   "cell_type": "markdown",
   "metadata": {},
   "source": [
    "# Part 1: Basic Python Syntax\n",
    "\n"
   ]
  },
  {
   "cell_type": "markdown",
   "metadata": {
    "collapsed": true
   },
   "source": [
    "The purpose of this Jupyter Notebook is to help you learn to:\n",
    "1. navigate Jupyter notebooks (like this one);\n",
    "2. write and evaluate some basic *expressions* in Python,\n",
    "3. call *functions* to use code other people have written;\n",
    "4. break down Python code into smaller parts to understand it.\n",
    "\n",
    "Fun fact: The creator of the Jupyter Notebooks (formerly known as the IPython Notebook), Fernando Perez, is a UC Berkeley Department of Statistics professor and has attended several of SUSA's faculty dinners!"
   ]
  },
  {
   "cell_type": "markdown",
   "metadata": {},
   "source": [
    "# 1. Jupyter Notebooks\n",
    "\n",
    "Each rectangle containing text is a *cell*.\n",
    "\n",
    "There are two types of cells:"
   ]
  },
  {
   "cell_type": "markdown",
   "metadata": {},
   "source": [
    "A. *Text*\n",
    "    - simply cells with text (like this one)\n",
    "    - can be edited by double-clicking on the cell."
   ]
  },
  {
   "cell_type": "markdown",
   "metadata": {},
   "source": [
    "**Practice:**\n",
    "    \n",
    "    Delete the following sentence and replace it with the future name of your firstborn daughter: "
   ]
  },
  {
   "cell_type": "markdown",
   "metadata": {},
   "source": [
    "Java is better than Python."
   ]
  },
  {
   "cell_type": "markdown",
   "metadata": {},
   "source": [
    "B. *Code*\n",
    "    - cells that contain code in the programming language Python 3\n",
    "    - running a code cell will execute all of the code it contains\n",
    "    - can be edited by clicking on the cell, it'll be highlighted with a little green or blue rectangle\n",
    "    - to run the code in a cell press the ▶| button or press `shift` + `enter`\n",
    "\n",
    "Try running this cell:"
   ]
  },
  {
   "cell_type": "code",
   "execution_count": null,
   "metadata": {},
   "outputs": [],
   "source": [
    "print(\"SUSA is the greatest club on campus.\")"
   ]
  },
  {
   "cell_type": "markdown",
   "metadata": {},
   "source": [
    " - Some shortcuts:\n",
    "     - `Esc` - `a`: creates a cell above current cell\n",
    "     - `Esc` - `b`: creates a cell below current cell\n",
    "     - Alternatives to `shift` - `enter`:\n",
    "         - `ctrl` - `enter`: run cell, keeps cursor in cell\n",
    "         - `opt` - `enter`: run cell, create new cell below"
   ]
  },
  {
   "cell_type": "markdown",
   "metadata": {},
   "source": [
    "# 2. Code\n",
    "\n",
    "Code is broken down into different lines. When a cell is run, the computer executes the code line by line in the order they are written. Run the next cell and notice the order of the output."
   ]
  },
  {
   "cell_type": "code",
   "execution_count": null,
   "metadata": {},
   "outputs": [],
   "source": [
    "print(\"My favorite animal is a\")\n",
    "print(\"human\")"
   ]
  },
  {
   "cell_type": "markdown",
   "metadata": {},
   "source": [
    "**Practice:** Change the cell above so that the output looks like this\n",
    "\n",
    "    My favorite animal is a\n",
    "    cat, but I am a\n",
    "    human"
   ]
  },
  {
   "cell_type": "markdown",
   "metadata": {},
   "source": [
    "# 3. Errors"
   ]
  },
  {
   "cell_type": "markdown",
   "metadata": {},
   "source": [
    "Python is a language, and like spoken languages, it has rules.  The rules are very simple and after seeing a little bit of code, you'll start to understand it and over time will gain reasonable proficiency. \n",
    "\n",
    "However, the rules are strictly enforced. Unlike spoken languages where small mistakes do not inhibit understanding, programming languages cannot work with even the slightest mistakes.\n",
    "\n",
    "Whenever you write code, you'll make mistakes — it is inevitable; everybody makes mistakes.  When you run a code cell that has errors, Python will sometimes produce error messages to tell you what you did wrong. When you make an error, you just have to find the source of the problem, fix it, and move on.\n",
    "\n",
    "We have made an error in the next cell.  Run it and see what happens."
   ]
  },
  {
   "cell_type": "code",
   "execution_count": null,
   "metadata": {},
   "outputs": [],
   "source": [
    "print\"Trump says the system is broken\")"
   ]
  },
  {
   "cell_type": "markdown",
   "metadata": {},
   "source": [
    "The last line of the error output attempts to tell you what went wrong.  The *syntax* of a language is its structure or the set of rules that governs it. `SyntaxError` tells you that you have created an illegal structure, or in other words, you broke the rules.\n",
    "\n",
    "There's a lot of terminology in programming languages, but you don't need to know it all in order to program effectively. If you see a cryptic message, you can often get by without deciphering it.\n",
    "\n",
    "**Practice**: Now fix the line so that it runs."
   ]
  },
  {
   "cell_type": "markdown",
   "metadata": {},
   "source": [
    "# 4. Numbers and Arithmetic"
   ]
  },
  {
   "cell_type": "markdown",
   "metadata": {},
   "source": [
    "In addition to representing commands to print out lines, lines of code, or *expressions* can represent numbers and methods of combining numbers. The expression `12.10000` evaluates to the number 12.1. (Run the cell and see.)"
   ]
  },
  {
   "cell_type": "code",
   "execution_count": null,
   "metadata": {},
   "outputs": [],
   "source": [
    "12.10000"
   ]
  },
  {
   "cell_type": "markdown",
   "metadata": {},
   "source": [
    "Notice that we didn't have to print. When you run a notebook cell, if the last line has a value, then Jupyter helpfully prints out that value for you. However, it won't print out prior lines automatically."
   ]
  },
  {
   "cell_type": "code",
   "execution_count": null,
   "metadata": {},
   "outputs": [],
   "source": [
    "print(1)\n",
    "2\n",
    "3"
   ]
  },
  {
   "cell_type": "markdown",
   "metadata": {},
   "source": [
    "Above, you see that 3 is the value of the last expression, 1 is printed, but 2 is lost forever because it was neither printed nor last."
   ]
  },
  {
   "cell_type": "markdown",
   "metadata": {},
   "source": [
    "The line in the next cell subtracts.  Its value is what you'd expect.  Run it."
   ]
  },
  {
   "cell_type": "code",
   "execution_count": null,
   "metadata": {},
   "outputs": [],
   "source": [
    "3 - 5"
   ]
  },
  {
   "cell_type": "markdown",
   "metadata": {},
   "source": [
    "Many basic arithmetic operations are built in to Python. Here are some common arithmetic operators:"
   ]
  },
  {
   "cell_type": "markdown",
   "metadata": {},
   "source": [
    "Addition: `+`"
   ]
  },
  {
   "cell_type": "code",
   "execution_count": null,
   "metadata": {},
   "outputs": [],
   "source": [
    "4 + 5"
   ]
  },
  {
   "cell_type": "markdown",
   "metadata": {},
   "source": [
    "Subtraction: `-`"
   ]
  },
  {
   "cell_type": "code",
   "execution_count": null,
   "metadata": {},
   "outputs": [],
   "source": [
    "5 - 1"
   ]
  },
  {
   "cell_type": "markdown",
   "metadata": {},
   "source": [
    "Multiplication: `*`"
   ]
  },
  {
   "cell_type": "code",
   "execution_count": null,
   "metadata": {},
   "outputs": [],
   "source": [
    "3 * 8"
   ]
  },
  {
   "cell_type": "markdown",
   "metadata": {},
   "source": [
    "Division: `/`"
   ]
  },
  {
   "cell_type": "code",
   "execution_count": null,
   "metadata": {},
   "outputs": [],
   "source": [
    "4/1"
   ]
  },
  {
   "cell_type": "markdown",
   "metadata": {},
   "source": [
    "Floor Division: //"
   ]
  },
  {
   "cell_type": "code",
   "execution_count": null,
   "metadata": {},
   "outputs": [],
   "source": [
    "5 / 2"
   ]
  },
  {
   "cell_type": "code",
   "execution_count": null,
   "metadata": {},
   "outputs": [],
   "source": [
    "5 // 2"
   ]
  },
  {
   "cell_type": "markdown",
   "metadata": {},
   "source": [
    "Remainder: `%`"
   ]
  },
  {
   "cell_type": "code",
   "execution_count": null,
   "metadata": {},
   "outputs": [],
   "source": [
    "8 % 3"
   ]
  },
  {
   "cell_type": "markdown",
   "metadata": {},
   "source": [
    "Exponentiation: `**`"
   ]
  },
  {
   "cell_type": "code",
   "execution_count": null,
   "metadata": {},
   "outputs": [],
   "source": [
    "2 ** 5"
   ]
  },
  {
   "cell_type": "markdown",
   "metadata": {},
   "source": [
    "Note: `2 * * 5` will return an error."
   ]
  },
  {
   "cell_type": "markdown",
   "metadata": {},
   "source": [
    "The order of operations is the same as the one you commonly use, and Python also has parentheses.  Need proof? Run the cell below."
   ]
  },
  {
   "cell_type": "code",
   "execution_count": null,
   "metadata": {},
   "outputs": [],
   "source": [
    "12+4*7-6*3**4*2**5/3*6"
   ]
  },
  {
   "cell_type": "markdown",
   "metadata": {},
   "source": [
    "# 5. Variables"
   ]
  },
  {
   "cell_type": "markdown",
   "metadata": {},
   "source": [
    "In computer science, variables are used to store information and allows the programmer to refer to it very easily.  In terms of data, it is very useful for naming data and simplifying the code.\n",
    "\n",
    "In Python, variables are defined through *assignment statements*. An assignment statement has the name of the variable on the left side of an `=` sign and an expression to be evaluated on the right. When you run an assignment statement, Python will execute the expression to the right of the `=` and then store it in the variable on the left."
   ]
  },
  {
   "cell_type": "code",
   "execution_count": null,
   "metadata": {
    "collapsed": true
   },
   "outputs": [],
   "source": [
    "thesis = \"UC Berkeley is the greatest public school in the world\""
   ]
  },
  {
   "cell_type": "markdown",
   "metadata": {},
   "source": [
    "Notice there is no output, because the value of the expression was put in the name `thesis`. Run the following cell:"
   ]
  },
  {
   "cell_type": "code",
   "execution_count": null,
   "metadata": {},
   "outputs": [],
   "source": [
    "thesis"
   ]
  },
  {
   "cell_type": "markdown",
   "metadata": {},
   "source": [
    "If no value has been assigned to a name, Python will return an error:"
   ]
  },
  {
   "cell_type": "code",
   "execution_count": null,
   "metadata": {},
   "outputs": [],
   "source": [
    "topic_sentence"
   ]
  },
  {
   "cell_type": "markdown",
   "metadata": {},
   "source": [
    "**Practice:** Assign a value to the variable above so that there are no errors.\n",
    "\n",
    "You can also assign numbers or mathematical expressions to variables."
   ]
  },
  {
   "cell_type": "markdown",
   "metadata": {},
   "source": [
    "A common pattern in Jupyter notebooks is to assign a value to a name and then immediately evaluate the name in the last line in the cell so that the value is displayed as output. "
   ]
  },
  {
   "cell_type": "code",
   "execution_count": null,
   "metadata": {},
   "outputs": [],
   "source": [
    "cos_pi_over_4 = 1 / 2**0.5\n",
    "cos_pi_over_4"
   ]
  },
  {
   "cell_type": "markdown",
   "metadata": {},
   "source": [
    "Another common use of variables in Jupyter notebooks is  a series of lines in a single cell will build up a complex computation in stages, naming the intermediate results."
   ]
  },
  {
   "cell_type": "code",
   "execution_count": null,
   "metadata": {},
   "outputs": [],
   "source": [
    "rent = 1580\n",
    "months = 17 + 12\n",
    "total_rent_paid = rent * months\n",
    "total_rent_paid"
   ]
  },
  {
   "cell_type": "markdown",
   "metadata": {},
   "source": [
    "# 6. Commenting\n",
    "\n",
    "A *comment* is writing in a code cell that the computer doesn't run. Comments help to communicate what the coder is doing in that piece of code and is extremely important when people collaborate to understand what each person is doing.\n",
    "\n",
    "In Python, when you put a *#* symbol, everything to the right of the symbol on the same line is not run."
   ]
  },
  {
   "cell_type": "code",
   "execution_count": null,
   "metadata": {},
   "outputs": [],
   "source": [
    "# Calculating an approximation for pi\n",
    "about_pi = 22/7\n",
    "about_pi"
   ]
  },
  {
   "cell_type": "markdown",
   "metadata": {},
   "source": [
    "# 7. Functions"
   ]
  },
  {
   "cell_type": "markdown",
   "metadata": {},
   "source": [
    "*Functions* are pieces of code written by others that you can openly, freely use. A function is called through its name and then its argument or arguments. An argument is a value that you pass into the function and the function does something with it or to it. The syntax of a function is as follows:\n",
    "\n",
    "`f(27)`\n",
    "\n",
    "This is called a *call expression* because  `f` is the name of the function being called and `27` is the argument passed in.\n",
    "\n",
    "Python has a set of built-in functions that are simple to use and very useful. For example, the `abs` function takes one argument and evaluates to the absolute value of that argument."
   ]
  },
  {
   "cell_type": "markdown",
   "metadata": {},
   "source": [
    "Jupyter Notebooks also provide some nice functionality for Python functions. If you put your cursor after a function, and hit *shift-tab*, it will popup a description of what the function does."
   ]
  },
  {
   "cell_type": "code",
   "execution_count": null,
   "metadata": {},
   "outputs": [],
   "source": [
    "abs(-3)"
   ]
  },
  {
   "cell_type": "code",
   "execution_count": null,
   "metadata": {},
   "outputs": [],
   "source": [
    "n = 6\n",
    "abs(n)"
   ]
  },
  {
   "cell_type": "markdown",
   "metadata": {},
   "source": [
    "Some functions take in multiple arguments, separated by commas. For example, `max` function returns the largest value of the arguments passed in."
   ]
  },
  {
   "cell_type": "code",
   "execution_count": null,
   "metadata": {},
   "outputs": [],
   "source": [
    "max(2, 5)"
   ]
  },
  {
   "cell_type": "code",
   "execution_count": null,
   "metadata": {},
   "outputs": [],
   "source": [
    "max(-2, 7, 13, 2, 6, -10, -23, 0)"
   ]
  },
  {
   "cell_type": "markdown",
   "metadata": {},
   "source": [
    "You can also pass in expressions into functions, as can be seen below:"
   ]
  },
  {
   "cell_type": "code",
   "execution_count": null,
   "metadata": {},
   "outputs": [],
   "source": [
    "num_rotations = 4\n",
    "# round() rounds a value to the nearest integer\n",
    "approx_radians_turned = round(2 * about_pi * num_rotations)\n",
    "approx_radians_turned"
   ]
  },
  {
   "cell_type": "markdown",
   "metadata": {},
   "source": [
    "*Nesting* is the term for passing in expressions into expressions. In other words, a statement or expression is nested if it contains call expressions or other expressions passed into functions as arguments. For example:"
   ]
  },
  {
   "cell_type": "code",
   "execution_count": null,
   "metadata": {},
   "outputs": [],
   "source": [
    "abs(4 - max(2, 3))"
   ]
  },
  {
   "cell_type": "markdown",
   "metadata": {},
   "source": [
    "# 8. Data Types\n",
    "\n",
    "In Python, there are several types of data. Here are a couple below\n",
    "\n",
    "1. Numbers \n",
    "\n",
    "`[1.25, 0.34, 3.0, 2.0]`\n",
    "2. `string` - \n",
    "This represents a \"string\" of characters. In other words, it's a piece of text that could be one letter, a word, a phrase, a sentence, or an entire text.\n",
    "\n",
    "`['has', \"The English language is really complicated.\", \"L\", '4']`\n",
    "\n",
    "3. `bool` -\n",
    "This represents a boolean value, which is a fancy computer way of saying `True` or `False`. Computers store booleans as `0` for `False` and `1` for `True`. `True`/`False` are interchangeable with `1`/`0`\n",
    "\n",
    "Here are some examples:"
   ]
  },
  {
   "cell_type": "code",
   "execution_count": null,
   "metadata": {},
   "outputs": [],
   "source": [
    "6.0000/2"
   ]
  },
  {
   "cell_type": "code",
   "execution_count": null,
   "metadata": {},
   "outputs": [],
   "source": [
    "6/2"
   ]
  },
  {
   "cell_type": "code",
   "execution_count": null,
   "metadata": {},
   "outputs": [],
   "source": [
    "1 * 3"
   ]
  },
  {
   "cell_type": "code",
   "execution_count": null,
   "metadata": {},
   "outputs": [],
   "source": [
    "'Everything' == \"Everything\""
   ]
  },
  {
   "cell_type": "code",
   "execution_count": null,
   "metadata": {},
   "outputs": [],
   "source": [
    "my_variable == 3"
   ]
  },
  {
   "cell_type": "code",
   "execution_count": null,
   "metadata": {
    "collapsed": true
   },
   "outputs": [],
   "source": [
    "my_variable = 3"
   ]
  },
  {
   "cell_type": "code",
   "execution_count": null,
   "metadata": {},
   "outputs": [],
   "source": [
    "print(\"I <3\", 'numbers')"
   ]
  },
  {
   "cell_type": "markdown",
   "metadata": {},
   "source": [
    "You can convert from data types quite easily in Python using the following built-in functions:"
   ]
  },
  {
   "cell_type": "code",
   "execution_count": null,
   "metadata": {},
   "outputs": [],
   "source": [
    "bool(0)"
   ]
  },
  {
   "cell_type": "code",
   "execution_count": null,
   "metadata": {},
   "outputs": [],
   "source": [
    "int(True)"
   ]
  },
  {
   "cell_type": "code",
   "execution_count": null,
   "metadata": {},
   "outputs": [],
   "source": [
    "int(\"4\")"
   ]
  },
  {
   "cell_type": "code",
   "execution_count": null,
   "metadata": {},
   "outputs": [],
   "source": [
    "float(4)"
   ]
  },
  {
   "cell_type": "code",
   "execution_count": null,
   "metadata": {},
   "outputs": [],
   "source": [
    "float(False)"
   ]
  },
  {
   "cell_type": "code",
   "execution_count": null,
   "metadata": {},
   "outputs": [],
   "source": [
    "float(\"3.52 \")"
   ]
  },
  {
   "cell_type": "code",
   "execution_count": null,
   "metadata": {},
   "outputs": [],
   "source": [
    "\"45\" + \"3.15\""
   ]
  },
  {
   "cell_type": "markdown",
   "metadata": {},
   "source": [
    "# 9. Back to functions"
   ]
  },
  {
   "cell_type": "markdown",
   "metadata": {},
   "source": [
    "There are three places where functions come from.\n",
    "\n",
    "1. Built-in functions \n",
    "\n",
    "    These are the ones we already talked about. Built-in functions come with the language of Python and can be used at any time.\n",
    "    \n",
    "    \n",
    "2. Functions from modules\n",
    "\n",
    "    Most programming involves work that is very similar to work that has been done before.  Since writing code is time-consuming, it's good to rely on others' published code when you can.  Rather than copy-pasting, Python allows us to **import** other code, creating a **module** that contains all of the names created by that code.\n",
    "\n",
    "Python includes many useful modules that are just an `import` away. Let's look at a couple real quick:"
   ]
  },
  {
   "cell_type": "code",
   "execution_count": null,
   "metadata": {},
   "outputs": [],
   "source": [
    "import math\n",
    "\n",
    "# math comes with many useful values for constants, such as pi or e\n",
    "print(math.pi)\n",
    "print(math.e)\n",
    "\n",
    "# math also comes with many functions to manipulate values. Here are some examples below\n",
    "print(math.sqrt(16))\n",
    "print(math.factorial(5))\n",
    "print(math.log(1))\n",
    "print(math.sin(math.pi/2))"
   ]
  },
  {
   "cell_type": "markdown",
   "metadata": {},
   "source": [
    "In the next cell, we import the `IPython.display` module.\n",
    "Then we use the `Image` function within the module using your intuition about how to call methods from modules. The `Image` function takes in the URL of a picture as a string and returns the image. Put this link in the function:\n",
    "    `https://i.ytimg.com/vi/IcWtX1UvIks/maxresdefault.jpg`"
   ]
  },
  {
   "cell_type": "code",
   "execution_count": null,
   "metadata": {},
   "outputs": [],
   "source": [
    "import IPython.display\n",
    "art = IPython.display.Image(\"https://i.ytimg.com/vi/IcWtX1UvIks/maxresdefault.jpg\")\n",
    "art"
   ]
  },
  {
   "cell_type": "markdown",
   "metadata": {},
   "source": [
    "(3) Defining functions\n",
    "\n",
    "The final way to get useful functions is to create them yourselves! Being able to define functions is incredibly useful because it allows you to reuse the same code you already wrote over and over again very easily.\n",
    "\n",
    "First let's look at what defining a function looks like and then we'll break down what's happening:"
   ]
  },
  {
   "cell_type": "code",
   "execution_count": null,
   "metadata": {
    "collapsed": true
   },
   "outputs": [],
   "source": [
    "def quadratic_solver(a, b, c):\n",
    "    # This is the docstring of a function, when you hit shift-tab on a user-created function, this is displayed\n",
    "    '''This function returns the largest non-perpendicular angle of a right triangle using the lengths'''\n",
    "    '''of the hypotenuse and the two sides.'''\n",
    "    discriminant = b ** 2 - 4 * a * c\n",
    "    # returns two different answers, which we can use as shown below\n",
    "    return (-b + (discriminant ** 0.5)) / 2*a, (-b - (discriminant ** 0.5)) / 2*a"
   ]
  },
  {
   "cell_type": "markdown",
   "metadata": {},
   "source": [
    "The first thing you see is a `def`. It stands for 'define' and it lets Python know that you're about to define a function. `def` is always bolded because it is a *keyword* that Python looks for, just like `import`, `True`, `False` and `return` (we'll come back to `return`).\n",
    "\n",
    "Next comes the name of the function. In this case we called the function `quadratic_solver`. Make sure that the name of the function does not exist somewhere else in your code or in module that you are using so that you do not confuse Python and more importantly, yourself.\n",
    "\n",
    "Following the name, is something called the *signature*. Inside the brackets, you state what arguments you want your function to take in and what you want to refer to them as. In `quadratic_solver`, we wanted three arguments named `a`, `b`, and `c`.\n",
    "\n",
    "At the end of the first line, there is a `:`. This tells Python that we are done setting the function up and the following is the actual function.\n",
    "\n",
    "Note that we included *documentation* of what the function does. Functions can do complicated things, so you should write an explanation of what your function does.  For small functions, this is less important, but it's a good habit to learn from the start.  Conventionally, Python functions are documented by writing a triple-quoted string:\n",
    "\n",
    "Then finally comes the body of the function — the actual code. This is the code that you don't want to have to type over and over again.\n",
    "\n",
    "The keyword `return` in a function's body tells Python to make the value of the function call equal to whatever comes right after `return`.  In `quadratic_solver`, we return the value of the largest angle.\n",
    "\n",
    "Now that you've defined your function, you can call it just like any other function"
   ]
  },
  {
   "cell_type": "code",
   "execution_count": null,
   "metadata": {},
   "outputs": [],
   "source": [
    "root1, root2 = quadratic_solver(1, 5, 6)\n",
    "print(root1)\n",
    "print(root2)"
   ]
  },
  {
   "cell_type": "markdown",
   "metadata": {},
   "source": [
    "**Practice:** Define a function that takes in four numbers, calculates the average, and then returns true if the average is larger than Euler's number ($e$) and false if it is not. Make sure to test your function.\n",
    "\n",
    "Note: It'll be useful to know some comparative *operators*:\n",
    "\n",
    "`==` returns `True` if the values on either side of it are equal to each other\n",
    "\n",
    "`!=` returns `True` if the values on either side of it are *not* equal to each other\n",
    "\n",
    "`>` returns `True` if the value on the left is larger than the one the right\n",
    "\n",
    "`>=` returns `True` if the value on the left is greater than or equal the one on the right\n",
    "\n",
    "`<` and `<=` do what you would expect."
   ]
  },
  {
   "cell_type": "code",
   "execution_count": null,
   "metadata": {},
   "outputs": [],
   "source": [
    "..."
   ]
  },
  {
   "cell_type": "markdown",
   "metadata": {},
   "source": [
    "# 10. Arrays and Lists"
   ]
  },
  {
   "cell_type": "markdown",
   "metadata": {},
   "source": [
    "Arrays and lists are two ways of easily storing and manipulating a sequence of data.\n",
    "\n",
    "A *list* is a sequence of values (just like an array), but the values can all have different types. Lists automatically come with Python and do not have to be imported."
   ]
  },
  {
   "cell_type": "code",
   "execution_count": null,
   "metadata": {},
   "outputs": [],
   "source": [
    "my_favorite_things = ['L', 36, 17/6, 3 == 3, \"family\", \"https://www.nationalgeographic.com/content/dam/travel/2017-digital/torres-del-paine-patagonia/torres-del-paine-national-park-patagonia.jpg\"]\n",
    "my_favorite_things"
   ]
  },
  {
   "cell_type": "markdown",
   "metadata": {},
   "source": [
    "You can easily retrieve any value in the list by simply using its *index*. An index is the place in the list of an object. Be careful though, the first item in a list has index 0, second item has index 1, third item has index 2, etc."
   ]
  },
  {
   "cell_type": "code",
   "execution_count": null,
   "metadata": {},
   "outputs": [],
   "source": [
    "my_favorite_things[1] # to get stuff from data containers, use brackets!"
   ]
  },
  {
   "cell_type": "markdown",
   "metadata": {},
   "source": [
    "You can add an element to a list by using the `append` function"
   ]
  },
  {
   "cell_type": "code",
   "execution_count": null,
   "metadata": {
    "collapsed": true
   },
   "outputs": [],
   "source": [
    "my_favorite_things.append('Python')"
   ]
  },
  {
   "cell_type": "code",
   "execution_count": null,
   "metadata": {},
   "outputs": [],
   "source": [
    "my_favorite_things"
   ]
  },
  {
   "cell_type": "markdown",
   "metadata": {},
   "source": [
    "*Anything* can go in lists, including other lists:"
   ]
  },
  {
   "cell_type": "code",
   "execution_count": null,
   "metadata": {
    "collapsed": true
   },
   "outputs": [],
   "source": [
    "lst = [[1, 2], [3, 4]]"
   ]
  },
  {
   "cell_type": "markdown",
   "metadata": {},
   "source": [
    "We query it as follows:"
   ]
  },
  {
   "cell_type": "code",
   "execution_count": null,
   "metadata": {},
   "outputs": [],
   "source": [
    "lst[0][1] # gets first element of lst, then the second element of that list"
   ]
  },
  {
   "cell_type": "markdown",
   "metadata": {},
   "source": [
    "# 11. Dictionaries\n",
    "\n",
    "A **dictionary** is a lookup table with key-value pairs."
   ]
  },
  {
   "cell_type": "markdown",
   "metadata": {},
   "source": [
    "Say you wanted to store your friend's email addresses in a variable in Python, and would like to look up a friend's email address quickly."
   ]
  },
  {
   "cell_type": "markdown",
   "metadata": {},
   "source": [
    "If you used a list, it would look something like this:"
   ]
  },
  {
   "cell_type": "code",
   "execution_count": null,
   "metadata": {
    "collapsed": true
   },
   "outputs": [],
   "source": [
    "email_addresses_lst = [['Ajay Raj', 'araj@berkeley.edu'], ['Calvin Chen', 'chencalvin99@berkeley.edu']]"
   ]
  },
  {
   "cell_type": "markdown",
   "metadata": {},
   "source": [
    "This is quite annoying to work with, because you don't know where the email address of your friend is in the list."
   ]
  },
  {
   "cell_type": "code",
   "execution_count": null,
   "metadata": {},
   "outputs": [],
   "source": [
    "email_addresses_lst[0][1] # gets Ajay's email address"
   ]
  },
  {
   "cell_type": "markdown",
   "metadata": {},
   "source": [
    "There's a much easier (and quicker) way."
   ]
  },
  {
   "cell_type": "code",
   "execution_count": null,
   "metadata": {
    "collapsed": true
   },
   "outputs": [],
   "source": [
    "email_addresses = { # curly braces for dictionaries\n",
    "    'Ajay Raj': 'araj@berkeley.edu',\n",
    "    'Calvin Chen': 'chencalvin99@berkeley.edu'\n",
    "}"
   ]
  },
  {
   "cell_type": "markdown",
   "metadata": {},
   "source": [
    "You can query this variable in the following ways:"
   ]
  },
  {
   "cell_type": "code",
   "execution_count": null,
   "metadata": {},
   "outputs": [],
   "source": [
    "email_addresses['Ajay Raj']"
   ]
  },
  {
   "cell_type": "markdown",
   "metadata": {},
   "source": [
    "You can add new entries or update old entries to your **dictionary** in the following way:"
   ]
  },
  {
   "cell_type": "code",
   "execution_count": null,
   "metadata": {
    "collapsed": true
   },
   "outputs": [],
   "source": [
    "email_addresses['Patrick Chao'] = 'prc@berkeley.edu'"
   ]
  },
  {
   "cell_type": "code",
   "execution_count": null,
   "metadata": {},
   "outputs": [],
   "source": [
    "email_addresses['Patrick Chao']"
   ]
  },
  {
   "cell_type": "code",
   "execution_count": null,
   "metadata": {
    "collapsed": true
   },
   "outputs": [],
   "source": [
    "email_addresses['Ajay Raj'] = 'ajayspersonal@notberkeley.something'"
   ]
  },
  {
   "cell_type": "code",
   "execution_count": null,
   "metadata": {},
   "outputs": [],
   "source": [
    "email_addresses['Ajay Raj']"
   ]
  },
  {
   "cell_type": "markdown",
   "metadata": {},
   "source": [
    "You can create an empty dictionary (with no key-value pairs) like this:"
   ]
  },
  {
   "cell_type": "code",
   "execution_count": null,
   "metadata": {
    "collapsed": true
   },
   "outputs": [],
   "source": [
    "d = {}"
   ]
  },
  {
   "cell_type": "code",
   "execution_count": null,
   "metadata": {},
   "outputs": [],
   "source": [
    "d"
   ]
  },
  {
   "cell_type": "markdown",
   "metadata": {},
   "source": [
    "# 12. Conditional statements and loops"
   ]
  },
  {
   "cell_type": "markdown",
   "metadata": {},
   "source": [
    "A *conditional statement* is a multi-line statement that allows Python to choose among different alternatives based on the truth value of an expression. A conditional statement always begins with an `if` header, which is a single line followed by an indented body. The body is only executed if the expression directly following `if` (called the *if expression*) evaluates to `True`. If the if expression evaluates to `False`, then the body  is skipped."
   ]
  },
  {
   "cell_type": "code",
   "execution_count": null,
   "metadata": {},
   "outputs": [],
   "source": [
    "x = 6 # change this to make the conditional work!\n",
    "if (x < 5):\n",
    "    y = math.e \n",
    "y"
   ]
  },
  {
   "cell_type": "markdown",
   "metadata": {},
   "source": [
    "We can add an `elif` clause (`elif` if Python's shorthand for the phrase \"else, if\"). Python only reads the `elif` clause if the if expression is `False`.\n",
    "Also we can add an `else` clause which always evaluates if all the if and elif expressions are `False`.\n",
    "\n",
    "Note: `if`, `elif`, and `else` are all Python keywords."
   ]
  },
  {
   "cell_type": "code",
   "execution_count": null,
   "metadata": {},
   "outputs": [],
   "source": [
    "direction = \"West\"\n",
    "\n",
    "if (direction == \"North\"):\n",
    "    is_direction = True\n",
    "elif (direction == \"South\"):\n",
    "    is_direction = True\n",
    "elif (direction == \"West\"):\n",
    "    is_direction = True\n",
    "elif (direction == \"East\"):\n",
    "    is_direction = True\n",
    "else:\n",
    "    is_direction = False\n",
    "    \n",
    "is_direction"
   ]
  },
  {
   "cell_type": "markdown",
   "metadata": {},
   "source": [
    "It is useful to know the `and` and `or` operators (more Python keywords).\n",
    "The `and` operator takes in two conditional statements on either side of it and evaluates to True only if both are True.\n",
    "The `or` operator takes in two conditional statements on either side of it and evaluates to True only if at least one is True."
   ]
  },
  {
   "cell_type": "code",
   "execution_count": null,
   "metadata": {},
   "outputs": [],
   "source": [
    "True or False"
   ]
  },
  {
   "cell_type": "code",
   "execution_count": null,
   "metadata": {},
   "outputs": [],
   "source": [
    "False and False"
   ]
  },
  {
   "cell_type": "code",
   "execution_count": null,
   "metadata": {},
   "outputs": [],
   "source": [
    "(4 == 2 or ((3 > 4 and 5 == 5) or 2 < 7))"
   ]
  },
  {
   "cell_type": "markdown",
   "metadata": {},
   "source": [
    "We can write the previous code block with \"or\"s like this:"
   ]
  },
  {
   "cell_type": "code",
   "execution_count": null,
   "metadata": {},
   "outputs": [],
   "source": [
    "d = \"West\"\n",
    "\n",
    "if d == \"West\" or d == \"South\" or d == \"North\" or d == \"East\":\n",
    "    is_direction = True\n",
    "else:\n",
    "    is_direction = False\n",
    "    \n",
    "is_direction"
   ]
  },
  {
   "cell_type": "markdown",
   "metadata": {},
   "source": [
    "**Practice:** Define a function named `type_of_triangle` that takes in the lengths of the three sides of a triangle and returns whether the triangle is an equilateral, isosceles, or scalene triangle.\n",
    "\n",
    "For example, `type_of_triangle(4, 4, 6)` should return `\"isosceles\"`.\n",
    "\n",
    "Try to use up as few lines as you can."
   ]
  },
  {
   "cell_type": "code",
   "execution_count": null,
   "metadata": {},
   "outputs": [],
   "source": [
    "..."
   ]
  },
  {
   "cell_type": "markdown",
   "metadata": {},
   "source": [
    "In programming, we often want to run the same code over and over again. Functions help with that, but the scale of data in computer science is too large to do manually, so we use *iterations*, also known as *loops*. This is especially useful in data science, when trying to analyze millions and millions of pieces of data.\n",
    "\n",
    "In Python, we use a `for` statement to loop over the contents of a sequence. A `for` statement begins with the word `for`, followed by a name we want to give each item in the sequence, followed by the word `in`, and ending with an expression that evaluates to a sequence. The indented body of the `for` statement is executed once for each item in that sequence"
   ]
  },
  {
   "cell_type": "code",
   "execution_count": null,
   "metadata": {},
   "outputs": [],
   "source": [
    "my_favorite_things"
   ]
  },
  {
   "cell_type": "code",
   "execution_count": null,
   "metadata": {},
   "outputs": [],
   "source": [
    "for favorite in my_favorite_things:\n",
    "    print(favorite, \"is my favorite!\")"
   ]
  },
  {
   "cell_type": "markdown",
   "metadata": {},
   "source": [
    "The `range` function is also useful for loops: say you want to count all the numbers between numbers $i$ (inclusive) and $j$ (exclusive). You can do that with `range(i, j)`."
   ]
  },
  {
   "cell_type": "code",
   "execution_count": null,
   "metadata": {},
   "outputs": [],
   "source": [
    "for i in range(10): # shorthand for range(0, 10)\n",
    "    print(i)"
   ]
  },
  {
   "cell_type": "code",
   "execution_count": null,
   "metadata": {},
   "outputs": [],
   "source": [
    "def sum_of_squares(max_value):\n",
    "    ''' This function finds the sum of all numbers from 0 up to, but not including max_value'''\n",
    "    total = 0\n",
    "    for i in range(max_value):\n",
    "        # checks if the square root of i is a whole number by converting it to an integer and seeing if in that process,\n",
    "        # any decimal places were cut off\n",
    "        total = total + i\n",
    "    return total\n",
    "    \n",
    "sum_of_squares(10) #should equal 45. Why isn't it 55?"
   ]
  },
  {
   "cell_type": "markdown",
   "metadata": {},
   "source": [
    "**Practice:** Use what you've learned to fill in the following code:"
   ]
  },
  {
   "cell_type": "code",
   "execution_count": null,
   "metadata": {},
   "outputs": [],
   "source": [
    "#Define a function num_long_words that takes in an list of words, \n",
    "# and returns to the number of words in the array that has more\n",
    "#than 4 characters\n",
    "\n",
    "# Hint: to get the length of a word, run len(s)\n",
    "len(\"Ajay\")"
   ]
  },
  {
   "cell_type": "code",
   "execution_count": null,
   "metadata": {},
   "outputs": [],
   "source": [
    "def num_long_words(...):\n",
    "    num_words = 0\n",
    "    ...\n",
    "    return num_words\n",
    "\n",
    "num_long_words([\"Hello\", \"this\", \"is\", \"Ajay\"]) # should equal 1 (Hello)"
   ]
  },
  {
   "cell_type": "markdown",
   "metadata": {},
   "source": [
    "### Congrats! You've learned the fundamentals of Python and programming!"
   ]
  },
  {
   "cell_type": "markdown",
   "metadata": {},
   "source": [
    "## Exercises"
   ]
  },
  {
   "cell_type": "markdown",
   "metadata": {},
   "source": [
    "**Practice**: You dropped your phone in the toilet, so you've lost all of your contacts! You've heard about this mythical technology called *The Yellow Pages*, which has the contacts of everyone in Berkeley. Someone has stored all of the contacts in *The Yellow Pages* in Python in the following way:\n",
    "\n",
    "It is a dictionary with 26 keys, each corresponding to each letter of the alphabet. The value corresponding to each letter is a list of all contacts whose first name starts with that letter. Each of the values in the list is another dictionary which stores the information about a person.\n",
    "\n",
    "Here's an abbreviated example of this:"
   ]
  },
  {
   "cell_type": "code",
   "execution_count": null,
   "metadata": {
    "collapsed": true
   },
   "outputs": [],
   "source": [
    "yellow_pages_abbrev = {\n",
    "    'A': [\n",
    "        {\n",
    "            'first': 'Ajay',\n",
    "            'last': 'Raj',\n",
    "            'phone_number': '5551234',\n",
    "            'address': 'Not My Address 94709'\n",
    "        },\n",
    "        {\n",
    "            'first': 'Ajay',\n",
    "            'last': 'NotRaj',\n",
    "            'phone_number': '5554321',\n",
    "            'address': 'Fake Address 94720'\n",
    "        }\n",
    "    ]\n",
    "}"
   ]
  },
  {
   "cell_type": "code",
   "execution_count": null,
   "metadata": {
    "collapsed": true
   },
   "outputs": [],
   "source": [
    "def get_phone_number(yellow_pages, first_name, last_name):\n",
    "    \"\"\"Searches The Yellow Pages (stored in yellow_pages) for the phone number of someone whose first name and last name are given. \n",
    "    \n",
    "    >>> get_phone_number(yellow_pages_abbrev, 'Ajay', 'Raj')\n",
    "    '5551234'\n",
    "    \"\"\"\n",
    "    pass"
   ]
  },
  {
   "cell_type": "markdown",
   "metadata": {},
   "source": [
    "**Practice**: The Fibonacci sequence is defined as follows: $$f_n = f_{n-1} + f_{n-2}$$ where $f_i$ is the $i$th element of the sequence. The 0th and 1st elements of the sequence are 0 and 1.\n",
    "\n",
    "Fill in the following function to compute the $n$th element of the sequence."
   ]
  },
  {
   "cell_type": "code",
   "execution_count": null,
   "metadata": {},
   "outputs": [],
   "source": [
    "# Hint: this is how the range() function works\n",
    "for i in range(1, 5):\n",
    "    print(i)"
   ]
  },
  {
   "cell_type": "code",
   "execution_count": null,
   "metadata": {
    "collapsed": true
   },
   "outputs": [],
   "source": [
    "# If you are having some trouble, take a look back at the Lists and Arrays section!\n",
    "def fib(n):\n",
    "    \"\"\"\n",
    "    >>> [fib(i) for i in range(8)]\n",
    "    [0, 1, 1, 2, 3, 5, 8, 13]\n",
    "    \"\"\"\n",
    "    f = [_, _]\n",
    "    for i in range(2, n + 1):\n",
    "        f.______(____________)\n",
    "    return f[_]"
   ]
  },
  {
   "cell_type": "code",
   "execution_count": null,
   "metadata": {},
   "outputs": [],
   "source": [
    "# you can check your answer by running this cell, if it does not error, your code is correct\n",
    "assert [fib(i) for i in range(8)] == [0, 1, 1, 2, 3, 5, 8, 13]"
   ]
  },
  {
   "cell_type": "markdown",
   "metadata": {},
   "source": [
    "**Practice**: While working on your Jupyter Notebook for learning python, you suddenly teleported to the ESPN sports center, where people now believe that you’re a basketball analyst! Luckily, you’ve watched basketball for a while, and can speak on players’ performances, but a lot of your analysis also comes from the stats that players have in the game. However, the stats recorded for the game for each player aren’t as clean as you might want them to be- they’re only recorded by quarter! Here’s an example of what the stats look like (they also only contain points per quarter):"
   ]
  },
  {
   "cell_type": "code",
   "execution_count": null,
   "metadata": {
    "collapsed": true
   },
   "outputs": [],
   "source": [
    "game_stats = {\n",
    "   'Ajay Raj': [7,5,5,9],\n",
    "   'Calvin Chen': [10,2,3,5],\n",
    "   'Patrick Chao': [3,12,4,8],\n",
    "   'Isabelle Townley-Smith': [2,4,3,26]\n",
    "}"
   ]
  },
  {
   "cell_type": "markdown",
   "metadata": {},
   "source": [
    "For now, the only metric as an analyst you care about are the points. However, just from the points, you can answer all sorts of questions!\n",
    "\n",
    "Determine the number of points each player got throughout the game."
   ]
  },
  {
   "cell_type": "code",
   "execution_count": null,
   "metadata": {
    "collapsed": true
   },
   "outputs": [],
   "source": [
    "def points(name, stats):\n",
    "   \"\"\"\n",
    "   >>> points('Ajay Raj', game_stats)\n",
    "   26\n",
    "\n",
    "   >>> points('Isabelle Townley-Smith', game_stats)\n",
    "   35\n",
    "   \"\"\""
   ]
  },
  {
   "cell_type": "markdown",
   "metadata": {},
   "source": [
    "Determine who had the most points throughout the game (hint: You may need a variable to store who’s had the highest number of points so far and another to variable to compare the points function above with."
   ]
  },
  {
   "cell_type": "code",
   "execution_count": null,
   "metadata": {
    "collapsed": true
   },
   "outputs": [],
   "source": [
    "def highest_points(stats):\n",
    "   \"\"\"\n",
    "   >>> highest_points(game_stats)\n",
    "   'Isabelle Townley-Smith'\n",
    "   \"\"\"\n",
    "   # YOUR CODE HERE"
   ]
  },
  {
   "cell_type": "markdown",
   "metadata": {},
   "source": [
    "Determine who stayed the most consistent throughout the game by calculating the standard deviation for each player. (Hint: standard deviation can be calculate with np.std)"
   ]
  },
  {
   "cell_type": "code",
   "execution_count": null,
   "metadata": {
    "collapsed": true
   },
   "outputs": [],
   "source": [
    "def most_consistent(stats):\n",
    "   \"\"\"\n",
    "   >>> most_consistent(game_stats)\n",
    "   'Ajay Raj'\n",
    "   \"\"\"\n",
    "   # YOUR CODE HERE"
   ]
  },
  {
   "cell_type": "markdown",
   "metadata": {},
   "source": [
    "# Challenge Problem"
   ]
  },
  {
   "cell_type": "markdown",
   "metadata": {},
   "source": [
    "**Note: this is for people who already know the Python basics.**\n",
    "\n",
    "Some \"refresher\" documentation:\n",
    "- https://docs.python.org/3/tutorial/datastructures.html#list-comprehensions\n",
    "- https://docs.python.org/2/library/itertools.html#itertools.combinations\n",
    "- https://docs.python.org/2/library/functions.html"
   ]
  },
  {
   "cell_type": "code",
   "execution_count": null,
   "metadata": {},
   "outputs": [],
   "source": [
    "from geopy.geocoders import Nominatim"
   ]
  },
  {
   "cell_type": "code",
   "execution_count": null,
   "metadata": {},
   "outputs": [],
   "source": [
    "geolocator = Nominatim()"
   ]
  },
  {
   "cell_type": "code",
   "execution_count": null,
   "metadata": {
    "collapsed": true
   },
   "outputs": [],
   "source": [
    "building_names = []\n",
    "with open('buildings.txt', 'r') as f:\n",
    "    for line in f.readlines():\n",
    "        building_names.append(line.strip())"
   ]
  },
  {
   "cell_type": "code",
   "execution_count": null,
   "metadata": {
    "collapsed": true
   },
   "outputs": [],
   "source": [
    "names_and_coordinates = {}\n",
    "for i, building_name in enumerate(building_names):\n",
    "    location = geolocator.geocode(building_name)\n",
    "    if location and 'Berkeley' in location.address:\n",
    "        names_and_coordinates[building_name] = (location.latitude, location.longitude)\n",
    "    print('Halls scanned: {0}/{1}'.format(i + 1, len(building_names)), end='\\r')"
   ]
  },
  {
   "cell_type": "code",
   "execution_count": null,
   "metadata": {
    "collapsed": true
   },
   "outputs": [],
   "source": [
    "from itertools import combinations"
   ]
  },
  {
   "cell_type": "code",
   "execution_count": null,
   "metadata": {
    "collapsed": true
   },
   "outputs": [],
   "source": [
    "from math import sin, cos, sqrt, atan2, radians\n",
    "def haversine(lat1, lon1, lat2, lon2):\n",
    "    \"\"\"Calculates the straight line distance between two latitude-longitude coordinates\"\"\"\n",
    "    # approximate radius of earth in miles\n",
    "    R = 3959.0\n",
    "\n",
    "    lat1_r = radians(lat1)\n",
    "    lon1_r = radians(lon1)\n",
    "    lat2_r = radians(lat2)\n",
    "    lon2_r = radians(lon2)\n",
    "\n",
    "    dlon = lon2_r - lon1_r\n",
    "    dlat = lat2_r - lat1_r\n",
    "\n",
    "    a = sin(dlat / 2)**2 + cos(lat1_r) * cos(lat2_r) * sin(dlon / 2)**2\n",
    "    c = 2 * atan2(sqrt(a), sqrt(1 - a))\n",
    "\n",
    "    return R * c"
   ]
  },
  {
   "cell_type": "markdown",
   "metadata": {},
   "source": [
    "You are trying to create the most evil schedule on campus, which contains back-to-back classes in buildings that are the furthest apart on campus. You are given the buildings and coordinates of those locations in a dictionary that can be queried as follows:"
   ]
  },
  {
   "cell_type": "code",
   "execution_count": null,
   "metadata": {
    "collapsed": true
   },
   "outputs": [],
   "source": [
    "names_and_coordinates['Soda Hall'], names_and_coordinates['Cory Hall']"
   ]
  },
  {
   "cell_type": "markdown",
   "metadata": {},
   "source": [
    "Write a function that returns a tuple of the furthest two buildings on campus, and the distance in miles between the two."
   ]
  },
  {
   "cell_type": "code",
   "execution_count": null,
   "metadata": {
    "collapsed": true
   },
   "outputs": [],
   "source": [
    "# Note: the solution has no loops or the word for\n",
    "def furthest_walk_on_campus(names_and_coordinates):\n",
    "    def key_fn(entry):\n",
    "        \"\"\"Could be useful with the built-in max() function\"\"\"\n",
    "    \"\"\"YOUR CODE HERE\"\"\""
   ]
  },
  {
   "cell_type": "code",
   "execution_count": null,
   "metadata": {
    "collapsed": true,
    "scrolled": false
   },
   "outputs": [],
   "source": [
    "print('The furthest walk on campus is {0} to {1}, which is {2} miles'.format(*furthest_walk_on_campus(names_and_coordinates)))"
   ]
  },
  {
   "cell_type": "markdown",
   "metadata": {},
   "source": [
    "**Extension**: Distance isn't always the best measure of the worst walk. Use Google Maps Matrix API (https://developers.google.com/maps/documentation/distance-matrix/intro)'s time to destination function to rank the walks instead."
   ]
  }
 ],
 "metadata": {
  "kernelspec": {
   "display_name": "Python (deeplearning)",
   "language": "python",
   "name": "deeplearning"
  },
  "language_info": {
   "codemirror_mode": {
    "name": "ipython",
    "version": 3
   },
   "file_extension": ".py",
   "mimetype": "text/x-python",
   "name": "python",
   "nbconvert_exporter": "python",
   "pygments_lexer": "ipython3",
   "version": "3.6.3"
  }
 },
 "nbformat": 4,
 "nbformat_minor": 2
}

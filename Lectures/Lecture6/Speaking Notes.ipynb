{
 "cells": [
  {
   "cell_type": "markdown",
   "metadata": {},
   "source": [
    "## Introduction\n",
    "Have them raise their hands and describe characteristics of a horse. OR if they refuse, say things like they have 4 legs, a mane, etc. So with this description of a horse, does your new friend have a full picture of what a horse is? What if they see a cat? Will they think that's also a horse? What about a zebra? We need to give more details about what a horse is so it won't be confused with a zebra. One really good way to describe all of the details of a horse would be to just show them a picture of a horse \"here you go, this is a horse.\" But now there's a problem if they see a horse that's a different color, will they know that that is still a horse? \n",
    "\n",
    "This is a silly example, but these questions and problems also translate to linear regression. We'll revisit these types of questions in later parts of the lecture today.\n",
    "\n",
    "### What Is A Model?\n",
    "Some of these things, like Newton's Second Law, are always true. It's a model of reality that so accurately describes reality while also generalizing to everything that it's always true. Others, like the position of a falling ball, are a pretty good description of what's going on, but won't always be 100% accurate, since it's based on certain assumptions, like no air resistance."
   ]
  }
 ],
 "metadata": {
  "kernelspec": {
   "display_name": "Python 3",
   "language": "python",
   "name": "python3"
  },
  "language_info": {
   "codemirror_mode": {
    "name": "ipython",
    "version": 3
   },
   "file_extension": ".py",
   "mimetype": "text/x-python",
   "name": "python",
   "nbconvert_exporter": "python",
   "pygments_lexer": "ipython3",
   "version": "3.6.2"
  }
 },
 "nbformat": 4,
 "nbformat_minor": 2
}

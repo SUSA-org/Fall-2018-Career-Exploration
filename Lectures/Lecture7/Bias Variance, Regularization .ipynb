{
 "cells": [
  {
   "cell_type": "markdown",
   "metadata": {},
   "source": [
    "# Lecture 7: Bias Variance, Regularization\n",
    "## 10/16/18\n",
    "\n",
    "### Table Of Contents\n",
    "* [Bias Variance](#bias_variance)\n",
    "* [Regularization](#regularization)\n",
    "\n",
    "\n",
    "### Hosted by and maintained by the [Statistics Undergraduate Students Association (SUSA)](https://susa.berkeley.edu). Originally authored by [Rosa Choe](mailto:rosachoe@berkeley.edu), [Ajay Raj](mailto:araj@berkeley.edu), and [Nichole Sun](mailto:nicholesun@berkeley.edu).\n",
    "\n"
   ]
  },
  {
   "cell_type": "markdown",
   "metadata": {},
   "source": [
    "<a id='bias_variance'></a>\n",
    "## Bias Variance"
   ]
  },
  {
   "cell_type": "markdown",
   "metadata": {},
   "source": [
    "<a id='regularization'></a>\n",
    "## Regularization"
   ]
  }
 ],
 "metadata": {
  "kernelspec": {
   "display_name": "Python 3",
   "language": "python",
   "name": "python3"
  },
  "language_info": {
   "codemirror_mode": {
    "name": "ipython",
    "version": 3
   },
   "file_extension": ".py",
   "mimetype": "text/x-python",
   "name": "python",
   "nbconvert_exporter": "python",
   "pygments_lexer": "ipython3",
   "version": "3.6.2"
  }
 },
 "nbformat": 4,
 "nbformat_minor": 2
}

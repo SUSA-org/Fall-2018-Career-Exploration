{
 "cells": [
  {
   "cell_type": "markdown",
   "metadata": {},
   "source": [
    "# Lecture 1: Career Exploration Introduction\n",
    "## 9/11/18\n",
    "\n",
    "### Table Of Contents\n",
    "* [Introduction](#section1)\n",
    "* [What will we learn?](#section2)\n",
    "\n",
    "\n",
    "\n",
    "### Hosted by and maintained by the [Statistics Undergraduate Students Association (SUSA)](https://susa.berkeley.edu). Originally authored by [Patrick Chao](mailto:prc@berkeley.edu).\n",
    "\n"
   ]
  },
  {
   "cell_type": "markdown",
   "metadata": {},
   "source": [
    "<a id='section1'></a>\n",
    "# Introduction\n",
    "Hello! Welcome to Career Exploration Fall 2018!\n",
    "\n",
    "This is just an introductory notebook for practice working with datahub and discussing the semester schedule. Datahub is a fantastic resource as it allows us to utilize python and common packages without needing to install anaconda or deal with problems with packages!\n",
    "\n",
    "Run the code chunk below by clicking on it and pressing `shift enter`. These are all common packages we will import throughout the semesters."
   ]
  },
  {
   "cell_type": "code",
   "execution_count": 1,
   "metadata": {},
   "outputs": [],
   "source": [
    "import pandas as pd\n",
    "import numpy as np\n",
    "import matplotlib.pyplot as plt\n",
    "%matplotlib inline"
   ]
  },
  {
   "cell_type": "markdown",
   "metadata": {},
   "source": [
    "Ordinarily you would need to install anaconda as well as all the packages. This usually causes many problems with differing versions and installation issues. Datahub bypasses all of these by providing a environment you can use online! \n",
    "\n",
    "### Steps to pull from github and upload to datahub.\n",
    "1. Open terminal, navigate to the desired directory \n",
    "  * `ls` (list segments) lists the contents of the current directory\n",
    "  * `cd` (change directory) changes the current directory. \n",
    "  * You can type `ls` to view the current folder and `cd a_folder` to move to `a_folder`.\n",
    "2. git clone the repository (should only need to be done once, skip this step after today!)\n",
    "  * `git clone https://github.com/SUSA-org/Fall-2018-Career-Exploration.git`\n",
    "3. Navigate into the cloned folder\n",
    "  * `cd Fall-2018-Career-Exploration`\n",
    "  * Typing out the entire name is quite annoying, if you type `\"cd Fa\"` and press the `Tab` key, it will autocomplete for you!\n",
    "3. git pull origin master (to update the repository)\n",
    "  * `git pull origin master`              \n",
    "4. Open datahub at http://datahub.berkeley.edu/ and log in with your berkeley account\n",
    "5. Click upload at the top right\n",
    "6. Upload LectureX.zip (X represents the lecture number, for example Lecture1.zip)\n",
    "7. Select 'new' at the top right of the datahub screen, and select terminal from the drop down\n",
    "8. Enter \"unzip LectureX.zip\"\n",
    "  * `unzip LectureX.zip`\n",
    "9. Open the LectureX folder and open the ipynb file inside the LectureX folder"
   ]
  },
  {
   "cell_type": "markdown",
   "metadata": {},
   "source": [
    "<a id='section2'></a>\n",
    "# What will we learn?\n",
    "\n",
    "This semester will go over many topics on a relatively high level. We begin with introducing jupyter notebooks (what you are reading from right now!) and use these to teach most of our lectures. Jupyter notebooks are incredibly useful as they allow you to run separate chunks of code at a time, without having to run the entire program at once.\n",
    "\n",
    "We aim to go through the following topics for the semester.\n",
    "1. Datahub\n",
    "2. Intro to Python\n",
    "3. Intro to R\n",
    "4. Numpy/Pandas\n",
    "5. Tidyverse\n",
    "6. Linear Regression, Validation, Fitting\n",
    "7. Bias Variance, Regularization\n",
    "8. Kaggle 1 Data Cleaning/Processing\n",
    "9. Kaggle 2 Data Visualization/Linear Models\n",
    "10. Kaggle 3 Decision Trees, Random Forests, Boosting\n",
    "11. Kaggle 4 Neural Networks\n",
    "12. Kaggle 5 Recap\n",
    "\n",
    "As you can see, the semester is packed full of various concepts, from statistical ideas such as bias and variance to machine learning concepts like neural networks and decision trees.\n",
    "\n",
    "The semester is structured so that you will be able to accumulate foundational skills, learn more advanced concepts, and apply them to a final Kaggle competition. \n",
    "\n",
    "The course material is being written by our lovely Education committee! You will get to meet them over the course of the semester as we are rotating lecturers.\n",
    "\n",
    "This schedule is quite ambitious and fast paced as it aims to cover a very large amount of material. Please let us know if you ever have feedback, have questions, or you are just looking for some more help! We are all happy to help out. You can always reach us at slack. "
   ]
  },
  {
   "cell_type": "markdown",
   "metadata": {},
   "source": [
    "<a id='section3'></a>"
   ]
  }
 ],
 "metadata": {
  "kernelspec": {
   "display_name": "Python 3",
   "language": "python",
   "name": "python3"
  },
  "language_info": {
   "codemirror_mode": {
    "name": "ipython",
    "version": 3
   },
   "file_extension": ".py",
   "mimetype": "text/x-python",
   "name": "python",
   "nbconvert_exporter": "python",
   "pygments_lexer": "ipython3",
   "version": "3.6.2"
  }
 },
 "nbformat": 4,
 "nbformat_minor": 2
}

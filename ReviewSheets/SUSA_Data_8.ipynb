{
 "cells": [
  {
   "cell_type": "markdown",
   "metadata": {},
   "source": [
    "# Data 8 Final Review\n",
    "#### Created by Andrew Rall"
   ]
  },
  {
   "cell_type": "markdown",
   "metadata": {},
   "source": [
    "This notebook is split into 6 sections based off of different types of questions that can be expected on the final. This is not an exhaustive list but still covers most of the fundamental concepts taught in Data 8.\n",
    "\n",
    "* Tables\n",
    "* Experiments and Hypothesis Testing\n",
    "* Distributions (Histograms)\n",
    "* Sampling\n",
    "* Prediction and Linear Regression\n",
    "* Classification\n",
    "\n",
    "Each section has a brief summary of what you should know with an emphasis on concepts that are commonly forgotten or misunderstood."
   ]
  },
  {
   "cell_type": "markdown",
   "metadata": {},
   "source": [
    "# Tables"
   ]
  },
  {
   "cell_type": "markdown",
   "metadata": {},
   "source": [
    "If you need a refresher on the fundamentals of tables checkout the textbook [here](https://www.inferentialthinking.com/chapters/06/Tables). I'm instead going to review some of the more complicated or confusing table methods that will almost certainly be on the final.\n",
    "\n",
    "### \"column\" vs \"select\"\n",
    "\n",
    "Although this is likely to be included on your Final Study Guide, the difference between `tbl.column` and `tbl.select` is a must know for the final.\n",
    "\n",
    "| `tbl.column(column_name_or_index)` | `tbl.select(col1, col2, ...)` |\n",
    "|:----------:|:-------------:|\n",
    "| Takes in a **single** column name/index | Can take in **multiple** column names/indices |\n",
    "| Returns **array** of values in column | Returns **table** of selected columns |\n",
    "\n",
    "\n",
    "\n",
    "### Pivot\n",
    "\n",
    "First, make sure that you are comfortable with how the pivot function is called:\n",
    "\n",
    "        tbl.pivot(col1, col2, vals, collect)\n",
    "    \n",
    "        col1: Name of column that will make up COLUMNS of pivot table\n",
    "        col2: Name of column that will make up ROWS of pivot table\n",
    "        vals (OPTIONAL): Name of column that will fill values of pivot table\n",
    "        collect (OPTIONAL): Function that says how `vals` are to be collected \n",
    "\n",
    "Additionally, there are two important properties to remember about the pivot function. \n",
    "\n",
    "1. Only **unique** values of `col1` will become columns of the pivot table. Likewise, only **unique** values of `col2` will become rows of the pivot table.\n",
    "2. If pivot is called without the `vals` and `collect` arguments, then the pivot table will be filled by counts.\n"
   ]
  },
  {
   "cell_type": "markdown",
   "metadata": {},
   "source": [
    "### Past Table Questions\n",
    "\n",
    "\n",
    "[Spring 17 Practice Final Table Question](http://data8.org/data8assets/exam/data8-sp17-practice-final.pdf#page=3)\n",
    "\n",
    "\n",
    "[Spring 17 Final Table Question](http://data8.org/data8assets/exam/data8-sp17-final.pdf#page=2)"
   ]
  },
  {
   "cell_type": "markdown",
   "metadata": {},
   "source": [
    "# Experiments and Hypothesis Testing"
   ]
  },
  {
   "cell_type": "markdown",
   "metadata": {},
   "source": [
    "First, let us define some terminology:\n",
    "\n",
    " * **Null Hypothesis**: A statement that there is no significant difference between the groups being compared. Any difference between them is due to chance alone.\n",
    " * **Alternative Hypothesis**: A claim that there is in fact a difference between the groups being compared. The difference can be either one-directional or two-directional.\n",
    " * **Test Statistic**: A single value that can be calculated from the data and used to distinguish the null and alternative hypotheses.\n",
    " * **p-value**: The probability under the null hypothesis of obtaining an as or more extreme value of the observed test statistic.\n",
    " * **p-value cutoff**: A predetermined value (ususally .05) that acts as a boundary to compare the p-value to.\n",
    " * **A/B Testing**: A form of hypothesis testing to determine whether two (numerical) samples come from the same underlying distribution. The textbook has a good example [here](https://www.inferentialthinking.com/chapters/12/1/AB_Testing).\n",
    " \n",
    "Next, make sure that you know how to compare a p-value to the chosen p-value cutoff and then interpret the result in terms of the null and alternative hypotheses. If the calculated p-value is less than or equal to the p-value cutoff, then we can reject the null hypotheses in favor of the alternative. If the p-value is greater than the p-value cutoff, then we have failed to reject the null hypothesis. Notice how we never \"accept\" anything, we can only reject or fail to reject the null.\n",
    "\n",
    "This leads us to another important notion for the final, [causality](https://www.inferentialthinking.com/chapters/12/3/Causality). The mantra that you have to remember is \"correlation (or association) does not imply causation\". To gain an intuitive understanding of this, here is one of my favorite examples:\n",
    "\n",
    " \n",
    "\n",
    "<img src=http://1.bp.blogspot.com/-N5-orxdEsY8/VXv6gQMCH3I/AAAAAAAABwo/56leU9Zk4HU/s1600/chart.png width=\"700\">\n",
    "\n",
    "Obviously these two quantities have nothing to do with each other, so making a claim that Nick Cage appearing in more movies causes more people to drown by falling in a pool just sounds ridiculous (unless of course you believe the conspiracy theory that [Nick Cage is an immortal vampire](https://abcnews.go.com/blogs/entertainment/2011/09/is-nicolas-cage-a-vampire-from-the-civil-war-era/)). \n",
    "\n",
    "\n",
    "Some examples of forming hypotheses, choosing appropriate test statistics, and then calculating p-values can be found in the textbook [here](https://www.inferentialthinking.com/chapters/11/1/Assessing_Models)."
   ]
  },
  {
   "cell_type": "markdown",
   "metadata": {},
   "source": [
    "### Past Experiment/Hypothesis Testing Questions\n",
    "\n",
    "[Spring 17 Practice Final Experiment Question](http://data8.org/data8assets/exam/data8-sp17-practice-final.pdf#page=7)\n",
    "\n",
    "[Spring 17 Final Experiment Question](http://data8.org/data8assets/exam/data8-sp17-final.pdf#page=3)"
   ]
  },
  {
   "cell_type": "markdown",
   "metadata": {},
   "source": [
    "# Distributions (Histograms)"
   ]
  },
  {
   "cell_type": "markdown",
   "metadata": {},
   "source": [
    "Although histograms aren't the most challenging concept in Data 8, there is a good chance that you will need to be able to interpret them on the final. Doing practice problems from lab and past exams is the best way prepare for this part but here are a few key facts to remember.\n",
    "* The sum of the areas of each of the bins is equal to 1\n",
    "* Bins include the lower bound and exclude the upper bound\n",
    "* The bins aren't required to have the same width\n",
    "* Never \"split\" a bin. If a question asks for the percentage of the data between 42 and 48 but the bins go from 40-44 and 45-49, then you cannot answer this question."
   ]
  },
  {
   "cell_type": "markdown",
   "metadata": {},
   "source": [
    "### Past Histogram Question\n",
    "\n",
    "[Spring 17 Practice Final Histogram Question](http://data8.org/data8assets/exam/data8-sp17-practice-final.pdf#page=4)\n"
   ]
  },
  {
   "cell_type": "markdown",
   "metadata": {},
   "source": [
    "# Sampling"
   ]
  },
  {
   "cell_type": "markdown",
   "metadata": {},
   "source": [
    "### Deterministic Sampling"
   ]
  },
  {
   "cell_type": "markdown",
   "metadata": {},
   "source": [
    "It is possible to have a sample where no chance is involved. This is called a deterministic sample. In a deterministic sample you specify exactly which entires of the data you want to choose. Although you are less likely to come across this type of sample, remember that it is possible to have a sample with no randomness."
   ]
  },
  {
   "cell_type": "markdown",
   "metadata": {},
   "source": [
    "### Random Sampling"
   ]
  },
  {
   "cell_type": "markdown",
   "metadata": {},
   "source": [
    "Let us first define some terminology surrounding random sampling:\n",
    "\n",
    "* **Population**: the set of all elements from which the sample will be drawn\n",
    "* **Empirical Distribution**: Distribution of observed data (i.e. data from random sample)\n",
    "* **Probability Sample**: a type of sample where even prior to the sample being taken, the probability of all subsets of the sample can be calculated. In this type of sample not all elements need to have the same chance of being choosen.\n",
    "* **Systematic Sample**: When the entire population is listed in sequence, a random element is choosen early in the sequence, and then elements are choosen at an evenly spaced interval after the initial element.\n",
    "\n",
    "A common source of confusion is when to sample **with** or **without** replacement. A sample **without** replacement is known as a **simple random sample**. Think of pulling numbers out of a hat without putting them back in after one is drawn. This makes each draw **dependent** on previous draws. Sampling with replacement is used for the bootstrap procedure and finding the probability of some event when items are replaced after they are drawn. This makes each draw **independent** off all other draws.\n",
    "\n",
    "Note that when the sample size is extremely small relative to the size of the population, there is no difference between sampling with or without replacement.\n",
    "\n",
    "### Is your random sample truly random?\n",
    "\n",
    "Determining what makes a \"good\" random sample is a tricky concept that just requires some thought. Suppose I want to get a random sample of Berkeley Students so I stand on Sproul Plaza and select every 10th person that walks past me. Is this a truly random sample of Berkeley Students? The answer is probably not. I would argue that certain types of students are more likely to walk through Sproul than others. For instance students who live South Side might be overrepresented while students who live North Side underrepresented in my sample. This is known as a *sample of convenience* where the probability of each person being selected cannot be determined.\n",
    "\n",
    "Instead, let's say that I had a list of Student ID's of everyone at Berkeley and I then take a simple random sample of the list. In this case, before I even took the sample, I could tell you that the probability of any one person being chosen for my sample is just $\\frac{1}{n}$ where $n$ is the number of Student ID's in the list."
   ]
  },
  {
   "cell_type": "markdown",
   "metadata": {},
   "source": [
    "### Past Sampling Questions\n",
    "\n",
    "[Spring 17 Practice Final Sampling Question](http://data8.org/data8assets/exam/data8-sp17-practice-final.pdf#page=8)\n",
    "\n",
    "[Spring 17 Final Sampling Question](http://data8.org/data8assets/exam/data8-sp17-final.pdf#page=4)\n"
   ]
  },
  {
   "cell_type": "markdown",
   "metadata": {},
   "source": [
    "# Prediction and Linear Regression"
   ]
  },
  {
   "cell_type": "markdown",
   "metadata": {},
   "source": [
    "### Estimation Using the Bootstrap\n",
    "\n",
    "Let's say that we have a single sample of a population and we want to generate another sample from the sample we already have that resembles the population. This is often desirable because of how hard it can be to get good samples. This can be achieved through the [bootstrap](https://www.inferentialthinking.com/chapters/13/2/Bootstrap). Make sure you know how to conduct the bootstrap procedure in python, the textbook does a good job of showing how it's done. Here is a visual representation of the bootstrap procedure.\n",
    "\n",
    "<img src=http://www.cs.cornell.edu/courses/cs1380/2018sp/textbook/notebooks-images/Bootstrap_25_0.png width=600>\n",
    "\n",
    "### Confidence Intervals\n",
    "\n",
    "To review how to construct confidence intervals using the bootstrap, read [this](https://www.inferentialthinking.com/chapters/13/3/Confidence_Intervals) part of the textbook. It is crucial that you are able to interpret what a confidence interval means. Let's say that we have a 95% confidence interval for the average height (in inches) of US males of [63, 77]. This does NOT mean that there is a 95% chance that the true population parameter falls in that range. The probability of the true population parameter falling in that range is either 0 or 1. Also, it does NOT mean that 95% of US males fall in the height range of 63 to 77 inches. Rather, if that same sampling process were repeated many times, we would expect that 95% of our intervals would contain the true population parameter. Here is a visual representation of the process. Notice how approximately 95% of the lines in the image below overlap with the true population parameter.\n",
    "\n",
    "<img src=https://blogs.sas.com/content/iml/files/2016/08/probCI1.png width=600>\n",
    "\n",
    "If you want another visualiztion of confidence intervals, take a look at [this](https://rpsychologist.com/d3/CI/).\n",
    "\n",
    "\n",
    "\n",
    "### The Correlation Coefficient\n",
    "\n",
    "The Correlation Coefficient (r) measures strength of linear relationship between two variables and has the following properties:\n",
    "   * Takes on a value between -1 and -1 (inclusive)\n",
    "   * No units\n",
    "   * Unaffected by changing the units of either axis\n",
    "   * Unaffected by switching the axes\n",
    "   * Can only be used to interpret association, not causation \n",
    "    \n",
    "<img src=https://mathbitsnotebook.com/Algebra1/StatisticsReg/CorrelationChart.jpg width=\"600\">\n",
    "\n",
    "### Formulas\n",
    "\n",
    "Although these formulas are likely to be on the Final Study Guide, make sure that you know how to manipulate and use them:\n",
    "\n",
    "Let our regression line have the following equation,\n",
    "\n",
    "$$ y = mx +  b$$\n",
    "\n",
    "Where $m$ equals the slope of the regression line and $b$ the intercept term. Thus the following equations will also be helpful:\n",
    "\n",
    "$$m = r * \\frac{SD_x}{SD_y}$$\n",
    "\n",
    "$$b = \\bar{y} - m\\bar{x}$$\n",
    "\n",
    "These previous formulas can be derived from the following formula where $\\hat{y}$ is our predicted y value from the regression line:\n",
    "\n",
    "$$ \\frac{\\hat{y} - \\bar{y}}{SD_y} = r*\\frac{x - \\bar{x}}{SD_x}$$\n",
    "\n",
    "### Least Squares\n",
    "\n",
    "The regression line is the single straight line that minimizes the mean squared error of estimation. Thus the regression line can also be called the least squares line. The textbook does a good job going over the method of least squares [here](https://www.inferentialthinking.com/chapters/15/3/Method_of_Least_Squares).\n",
    "\n",
    "### Residual Plots\n",
    "\n",
    "The residual plot of a good regression is like a formless blob with no obvious pattern. The residuals have to look about the same and be centered horizontally around the line $y=0$ for all values of x. Here are some examples of residuals plots for good and bad regression lines.\n",
    "\n",
    "<img src=https://i1.wp.com/condor.depaul.edu/sjost/it223/documents/resid-plots.gif width=\"400\">\n",
    "\n",
    "Recall what homoscedastic and heteroscedastic mean:\n",
    "\n",
    "* **Homoscedasdic**: Equal variance for all values of x\n",
    "* **Heteroscedasdic**: Unequal variance for all values of x\n",
    "\n",
    "Thus if the points in the residual plot fan out or get more narrow vertically, then they are heteroscedastic. This indicates a bad linear model. There could be either multiple separate linear models that you are trying to generalize with one, or a none linear model altogether.\n",
    "\n",
    "Residuals are \"biased\" if they are not centered around the line $y=0$ and are also indicative of a bad linear model. So in the image above, only the formless cloud suggests that the linear model is good choice."
   ]
  },
  {
   "cell_type": "markdown",
   "metadata": {},
   "source": [
    "### Past Regression and Prediction Questions\n",
    "\n",
    "[Spring 17 Practice Final Regression Question](http://data8.org/data8assets/exam/data8-sp17-practice-final.pdf#page=5)\n",
    "\n",
    "[Spring 17 Final Regression Question](http://data8.org/data8assets/exam/data8-sp17-final.pdf#page=5)\n"
   ]
  },
  {
   "cell_type": "markdown",
   "metadata": {},
   "source": [
    "# Classification"
   ]
  },
  {
   "cell_type": "markdown",
   "metadata": {},
   "source": [
    "The method of classification you need to know is called [k-nearest neighbors](https://www.inferentialthinking.com/chapters/17/1/Nearest_Neighbors). The basic idea behind it is to find the k entires in the training set that are most similar to the point you are trying to classify. Look at what category each of the k points fall into and then classify your new point as whichever category is in the majority. Remember that it is important to choose a k that is odd so that you don't run into ties!\n",
    "\n",
    "Also, recall the importance of having a training and testing set. If you use the training set to test you nearest neighbor classifier and choose k to be 1, then your classifier is going to have an accuracy of 100%! The problem with this is that you have \"overfit\" your classifier so that it works really well for the data you trained it on, but will probably perform quite poorly on any new data.\n",
    "\n",
    "Make sure that you are comfortable looking at plots like the one below and determining which category a new point would fall in and why. In the plot below there are two categories, red and blue. The bolded points are the data you have in your training set and the smaller points show how a new point would be classified if it were at that location on the plot for k=5. Notice how \"boundaries\" develop that separate the two categories, but there isn't just a single line. It is possible to have smaller \"pockets\" of a category surrounded by points of the other category.\n",
    "\n",
    "<img src=https://s3.amazonaws.com/octoporess_blog/knn/pic5.png width=400>\n",
    "\n"
   ]
  },
  {
   "cell_type": "markdown",
   "metadata": {},
   "source": [
    "### Past Classification Question\n",
    "\n",
    "[Spring 17 Practice Final Classification Question](http://data8.org/data8assets/exam/data8-sp17-practice-final.pdf#page=9)\n",
    "\n",
    "[Spring 17 Final Classification Question](http://data8.org/data8assets/exam/data8-sp17-final.pdf#page=6)\n"
   ]
  }
 ],
 "metadata": {
  "kernelspec": {
   "display_name": "Python 3",
   "language": "python",
   "name": "python3"
  },
  "language_info": {
   "codemirror_mode": {
    "name": "ipython",
    "version": 3
   },
   "file_extension": ".py",
   "mimetype": "text/x-python",
   "name": "python",
   "nbconvert_exporter": "python",
   "pygments_lexer": "ipython3",
   "version": "3.6.2"
  }
 },
 "nbformat": 4,
 "nbformat_minor": 2
}
